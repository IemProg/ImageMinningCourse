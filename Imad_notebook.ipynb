{
 "cells": [
  {
   "cell_type": "markdown",
   "metadata": {},
   "source": [
    "### [Image Mining 2020] Lab 2 ‒ Deep Learning\n",
    "\n",
    "**Author:** Imad Eddine **MAROUF**\n",
    "> Email: imad.marouf97@gmail.com\n",
    "\n",
    "**Author:** Lukas **MALIK**\n",
    "> Email: lukas.malik@web.de\n",
    "\n",
    "**Due date:** 22.10.2020"
   ]
  },
  {
   "cell_type": "markdown",
   "metadata": {},
   "source": [
    "--------------------------------------------------------------------------------------------------------"
   ]
  },
  {
   "cell_type": "code",
   "execution_count": 1,
   "metadata": {
    "id": "oAaG_t_Rkkvr"
   },
   "outputs": [],
   "source": [
    "import numpy as np\n",
    "import matplotlib.pyplot as plt\n",
    "\n",
    "import torch\n",
    "import torchvision\n",
    "import torchvision.transforms as transforms\n",
    "\n",
    "import time"
   ]
  },
  {
   "cell_type": "code",
   "execution_count": 2,
   "metadata": {
    "id": "SYUG35eDkkv5"
   },
   "outputs": [],
   "source": [
    "seed = 42\n",
    "np.random.seed(seed)\n",
    "torch.manual_seed(seed)\n",
    "\n",
    "if torch.cuda.is_available():\n",
    "  # Make CuDNN Determinist\n",
    "  torch.backends.cudnn.deterministic = True\n",
    "  torch.cuda.manual_seed(seed)\n",
    "\n",
    "# Define default device, we should use the GPU (cuda) if available\n",
    "device = torch.device(\"cuda\" if torch.cuda.is_available() else \"cpu\")"
   ]
  },
  {
   "cell_type": "code",
   "execution_count": 3,
   "metadata": {
    "id": "VIauJi59kkwE"
   },
   "outputs": [],
   "source": [
    "from torch.utils.data.sampler import SubsetRandomSampler\n",
    "\n",
    "n_training_samples = 40000 # Max: 50 000 - n_val_samples\n",
    "n_val_samples = 10000\n",
    "\n",
    "\n",
    "train_sampler = SubsetRandomSampler(np.arange(n_training_samples, dtype=np.int64))\n",
    "val_sampler = SubsetRandomSampler(np.arange(n_training_samples, n_training_samples + n_val_samples, dtype=np.int64))\n",
    "#test_sampler = SubsetRandomSampler(np.arange(n_test_samples, dtype=np.int64))  # we can use it to test on a subset\n",
    "# (In the last case, indexes do not need to account for training ones because the train=False parameter in datasets.CIFAR will select from the test set)"
   ]
  },
  {
   "cell_type": "code",
   "execution_count": 4,
   "metadata": {
    "colab": {
     "base_uri": "https://localhost:8080/",
     "height": 100,
     "referenced_widgets": [
      "dda5a0c91b3d4aad83d81d1a66b8e412",
      "e783ad2dbc7c46f6a4abc5f7f5686df3",
      "b46006f85dee4eba970944cff1ebbfb9",
      "1bfea72d8d764e17adf38400b9fbc2ce",
      "b52a0d1dc7a34c12a6601d56b207d2ac",
      "7b31261f1b134926bd18ded32866c091",
      "d69b1a42edad4380ad2f7cf7f1a53811",
      "6bc09dc8cc0e4ac086ff5d7169166456"
     ]
    },
    "id": "ufj8xBCBkkwQ",
    "outputId": "9fe222f0-3acc-48c5-f99c-9169b3be24ff"
   },
   "outputs": [
    {
     "name": "stdout",
     "output_type": "stream",
     "text": [
      "Downloading https://www.cs.toronto.edu/~kriz/cifar-10-python.tar.gz to ./data/cifar-10-python.tar.gz\n"
     ]
    },
    {
     "data": {
      "application/vnd.jupyter.widget-view+json": {
       "model_id": "dda5a0c91b3d4aad83d81d1a66b8e412",
       "version_major": 2,
       "version_minor": 0
      },
      "text/plain": [
       "HBox(children=(FloatProgress(value=1.0, bar_style='info', max=1.0), HTML(value='')))"
      ]
     },
     "metadata": {
      "tags": []
     },
     "output_type": "display_data"
    },
    {
     "name": "stdout",
     "output_type": "stream",
     "text": [
      "Extracting ./data/cifar-10-python.tar.gz to ./data\n",
      "Files already downloaded and verified\n"
     ]
    }
   ],
   "source": [
    "num_workers = 5\n",
    "test_batch_size = 4\n",
    "\n",
    "transform = transforms.Compose(\n",
    "    [transforms.ToTensor(),\n",
    "     transforms.Normalize(mean=(0.5, 0.5, 0.5), std=(0.5, 0.5, 0.5))])\n",
    "\n",
    "train_set = torchvision.datasets.CIFAR10(root='./data', train=True,\n",
    "                                        download=True, transform=transform)\n",
    "\n",
    "train_loader = torch.utils.data.DataLoader(train_set, batch_size=test_batch_size, sampler=train_sampler,\n",
    "                                          num_workers=num_workers)\n",
    "\n",
    "test_set = torchvision.datasets.CIFAR10(root='./data', train=False,\n",
    "                                       download=True, transform=transform)\n",
    "test_loader = torch.utils.data.DataLoader(test_set, batch_size=test_batch_size,\n",
    "                                         num_workers=num_workers)\n",
    "\n",
    "classes = ('plane', 'car', 'bird', 'cat', 'deer', 'dog', 'frog', 'horse', 'ship', 'truck')"
   ]
  },
  {
   "cell_type": "markdown",
   "metadata": {
    "id": "RYKUW1u2kkwg"
   },
   "source": [
    "### 1 \\Convolutionnal Neural Network"
   ]
  },
  {
   "cell_type": "markdown",
   "metadata": {
    "id": "7g2xgEWmkkwi"
   },
   "source": [
    "For graphical recognition, convolutions offer a performance enhancement. We trained a convolutionnal neural network CNN with **two convolutionnal layers and one hidden linear layer**.\n",
    "\n",
    "Between each convolutionnal layer, we used **a leaky relu activation** and **a max-pool layer**, as well as **a leaky relu activation** for the hidden linear layer. Again we used the negative log likelihood loss and the log softmax activation for the final layer as it is standard for classification with C classes"
   ]
  },
  {
   "cell_type": "code",
   "execution_count": 5,
   "metadata": {
    "id": "gLwd2Vapkkwk"
   },
   "outputs": [],
   "source": [
    "# Useful imports\n",
    "import torch.nn as nn\n",
    "import torch.nn.functional as F\n",
    "\n",
    "class CNN(nn.Module):\n",
    "    def __init__(self):\n",
    "        super(CNN, self).__init__()\n",
    "        self.conv1 = nn.Conv2d(in_channels=3, out_channels=6, kernel_size=5)\n",
    "        self.pool = nn.MaxPool2d(kernel_size=(2,2), stride=2)\n",
    "        self.conv2 = nn.Conv2d(6, 16, 5)\n",
    "        self.fc1 = nn.Linear(16 * 5 * 5, 120)\n",
    "        self.fc2 = nn.Linear(120, 84)\n",
    "        self.fc3 = nn.Linear(84, 10)\n",
    "            \n",
    "\n",
    "    def forward(self, x):\n",
    "        x = self.pool(F.relu(self.conv1(x)))\n",
    "        x = self.pool(F.relu(self.conv2(x)))\n",
    "        \n",
    "        ### view 等同 reshape. 差別在於pytorch中reshape是複製, 而view則是永遠指向源頭\n",
    "        # \"Unlike reshape, reshape always copies memory. view never copies memory.\"\n",
    "        #ref: z = torch.zeros(3, 2)\n",
    "        #>>>  x = z.view(2, 3)\n",
    "        #>>>  z.fill_(1)\n",
    "        #>>>  x\n",
    "        #    tensor([[1., 1., 1.],\n",
    "        #            [1., 1., 1.]]) \n",
    "        \n",
    "        x = x.view(-1, 16 * 5 * 5)\n",
    "        x = F.relu(self.fc1(x))\n",
    "        x = F.relu(self.fc2(x))\n",
    "        x = self.fc3(x)\n",
    "        return x"
   ]
  },
  {
   "cell_type": "code",
   "execution_count": 6,
   "metadata": {
    "id": "yMxaHGy-kkwv"
   },
   "outputs": [],
   "source": [
    "import torch.optim as optim\n",
    "\n",
    "def createLossAndOptimizer(net, learning_rate=0.001):\n",
    "    # it combines softmax with negative log likelihood loss\n",
    "    criterion = nn.CrossEntropyLoss()  \n",
    "    #optimizer = optim.SGD(net.parameters(), lr=learning_rate, momentum=0.9)\n",
    "    optimizer = optim.Adam(net.parameters(), lr=learning_rate)\n",
    "    return criterion, optimizer"
   ]
  },
  {
   "cell_type": "code",
   "execution_count": 7,
   "metadata": {
    "id": "PMKCy05lkkw6"
   },
   "outputs": [],
   "source": [
    "def get_train_loader(batch_size):\n",
    "    return torch.utils.data.DataLoader(train_set, batch_size=batch_size, sampler=train_sampler,\n",
    "                                              num_workers=num_workers)\n",
    "# Use larger batch size for validation to speed up computation\n",
    "val_loader = torch.utils.data.DataLoader(train_set, batch_size=128, sampler=val_sampler,\n",
    "                                          num_workers=num_workers)"
   ]
  },
  {
   "cell_type": "code",
   "execution_count": null,
   "metadata": {
    "id": "8NpEQYGKkkxF"
   },
   "outputs": [],
   "source": [
    "def train(net, batch_size, n_epochs, learning_rate):\n",
    "    \"\"\"\n",
    "    Train a neural network and print statistics of the training\n",
    "    :param net: (PyTorch Neural Network)\n",
    "    :param batch_size: (int)\n",
    "    :param n_epochs: (int)  Number of iterations on the training set\n",
    "    :param learning_rate: (float) learning rate used by the optimizer\n",
    "    \"\"\"\n",
    "    print(\"===== HYPERPARAMETERS =====\")\n",
    "    print(\"batch_size=\", batch_size)\n",
    "    print(\"n_epochs=\", n_epochs)\n",
    "    print(\"learning_rate=\", learning_rate)\n",
    "    print(\"=\" * 30)\n",
    "    \n",
    "    train_loader = get_train_loader(batch_size)\n",
    "    n_minibatches = len(train_loader)\n",
    "\n",
    "    criterion, optimizer = createLossAndOptimizer(net, learning_rate)\n",
    "    # Init variables used for plotting the loss\n",
    "    train_history = []\n",
    "    val_history = []\n",
    "\n",
    "    training_start_time = time.time()\n",
    "    best_error = np.inf\n",
    "    best_model_path = \"best_model.pth\"\n",
    "    # Move model to gpu if possible\n",
    "    net = net.to(device)\n",
    "\n",
    "    for epoch in range(n_epochs):  # loop over the dataset multiple times\n",
    "        running_loss = 0.0\n",
    "        print_every = n_minibatches // 10\n",
    "        start_time = time.time()\n",
    "        total_train_loss = 0\n",
    "        \n",
    "        for i, (inputs, labels) in enumerate(train_loader):\n",
    "            # Move tensors to correct device\n",
    "            inputs, labels = inputs.to(device), labels.to(device)\n",
    "            \n",
    "            # zero the parameter gradients\n",
    "            optimizer.zero_grad()\n",
    "            # forward + backward + optimize\n",
    "            outputs = net(inputs)\n",
    "            #print(outputs.shape)\n",
    "            loss = criterion(outputs, labels)\n",
    "            loss.backward()\n",
    "            optimizer.step()\n",
    "\n",
    "            # print statistics\n",
    "            running_loss += loss.item()\n",
    "            total_train_loss += loss.item()\n",
    "\n",
    "            # print every 10th of epoch\n",
    "            if (i + 1) % (print_every + 1) == 0:    \n",
    "                print(\"Epoch {}, {:d}% \\t train_loss: {:.2f} took: {:.2f}s\".format(\n",
    "                      epoch + 1, int(100 * (i + 1) / n_minibatches), running_loss / print_every,\n",
    "                      time.time() - start_time))\n",
    "                running_loss = 0.0\n",
    "                start_time = time.time()\n",
    "\n",
    "        train_history.append(total_train_loss / len(train_loader))\n",
    "\n",
    "        total_val_loss = 0\n",
    "        # Do a pass on the validation set\n",
    "        # We don't need to compute gradient,\n",
    "        # we save memory and computation using th.no_grad()\n",
    "        with torch.no_grad():\n",
    "          for inputs, labels in val_loader:\n",
    "              # Move tensors to correct device\n",
    "              inputs, labels = inputs.to(device), labels.to(device)\n",
    "              # Forward pass\n",
    "              predictions = net(inputs)\n",
    "              val_loss = criterion(predictions, labels)\n",
    "              total_val_loss += val_loss.item()\n",
    "            \n",
    "        val_history.append(total_val_loss / len(val_loader))\n",
    "        # Save model that performs best on validation set\n",
    "        if total_val_loss < best_error:\n",
    "            best_error = total_val_loss\n",
    "            torch.save(net.state_dict(), best_model_path)\n",
    "\n",
    "        print(\"Validation loss = {:.2f}\".format(total_val_loss / len(val_loader)))\n",
    "\n",
    "    print(\"Training Finished, took {:.2f}s\".format(time.time() - training_start_time))\n",
    "    \n",
    "    # Load best model\n",
    "    net.load_state_dict(torch.load(best_model_path))\n",
    "    \n",
    "    return train_history, val_history"
   ]
  },
  {
   "cell_type": "code",
   "execution_count": null,
   "metadata": {
    "colab": {
     "base_uri": "https://localhost:8080/",
     "height": 1000
    },
    "id": "BbuwkcCWkkxO",
    "outputId": "0b390f5c-a5f0-497c-d0a4-a1712c0edc9d"
   },
   "outputs": [
    {
     "name": "stdout",
     "output_type": "stream",
     "text": [
      "===== HYPERPARAMETERS =====\n",
      "batch_size= 32\n",
      "n_epochs= 10\n",
      "learning_rate= 0.001\n",
      "==============================\n",
      "Epoch 1, 10% \t train_loss: 2.06 took: 1.58s\n",
      "Epoch 1, 20% \t train_loss: 1.79 took: 1.24s\n",
      "Epoch 1, 30% \t train_loss: 1.69 took: 1.24s\n",
      "Epoch 1, 40% \t train_loss: 1.61 took: 1.30s\n",
      "Epoch 1, 50% \t train_loss: 1.57 took: 1.26s\n",
      "Epoch 1, 60% \t train_loss: 1.54 took: 1.25s\n",
      "Epoch 1, 70% \t train_loss: 1.50 took: 1.26s\n",
      "Epoch 1, 80% \t train_loss: 1.49 took: 1.25s\n",
      "Epoch 1, 90% \t train_loss: 1.45 took: 1.25s\n",
      "Validation loss = 1.43\n",
      "Epoch 2, 10% \t train_loss: 1.43 took: 1.56s\n",
      "Epoch 2, 20% \t train_loss: 1.40 took: 1.25s\n",
      "Epoch 2, 30% \t train_loss: 1.36 took: 1.27s\n",
      "Epoch 2, 40% \t train_loss: 1.36 took: 1.24s\n",
      "Epoch 2, 50% \t train_loss: 1.34 took: 1.25s\n",
      "Epoch 2, 60% \t train_loss: 1.34 took: 1.26s\n",
      "Epoch 2, 70% \t train_loss: 1.34 took: 1.24s\n",
      "Epoch 2, 80% \t train_loss: 1.29 took: 1.27s\n",
      "Epoch 2, 90% \t train_loss: 1.33 took: 1.25s\n",
      "Validation loss = 1.31\n",
      "Epoch 3, 10% \t train_loss: 1.24 took: 1.52s\n",
      "Epoch 3, 20% \t train_loss: 1.25 took: 1.24s\n",
      "Epoch 3, 30% \t train_loss: 1.25 took: 1.25s\n",
      "Epoch 3, 40% \t train_loss: 1.24 took: 1.29s\n",
      "Epoch 3, 50% \t train_loss: 1.23 took: 1.27s\n",
      "Epoch 3, 60% \t train_loss: 1.22 took: 1.25s\n",
      "Epoch 3, 70% \t train_loss: 1.24 took: 1.25s\n",
      "Epoch 3, 80% \t train_loss: 1.24 took: 1.28s\n",
      "Epoch 3, 90% \t train_loss: 1.21 took: 1.25s\n",
      "Validation loss = 1.22\n",
      "Epoch 4, 10% \t train_loss: 1.15 took: 1.53s\n",
      "Epoch 4, 20% \t train_loss: 1.15 took: 1.25s\n",
      "Epoch 4, 30% \t train_loss: 1.15 took: 1.23s\n",
      "Epoch 4, 40% \t train_loss: 1.15 took: 1.27s\n",
      "Epoch 4, 50% \t train_loss: 1.16 took: 1.26s\n",
      "Epoch 4, 60% \t train_loss: 1.15 took: 1.26s\n",
      "Epoch 4, 70% \t train_loss: 1.15 took: 1.27s\n",
      "Epoch 4, 80% \t train_loss: 1.16 took: 1.26s\n",
      "Epoch 4, 90% \t train_loss: 1.15 took: 1.26s\n",
      "Validation loss = 1.20\n",
      "Epoch 5, 10% \t train_loss: 1.11 took: 1.54s\n",
      "Epoch 5, 20% \t train_loss: 1.07 took: 1.29s\n",
      "Epoch 5, 30% \t train_loss: 1.07 took: 1.25s\n",
      "Epoch 5, 40% \t train_loss: 1.10 took: 1.27s\n",
      "Epoch 5, 50% \t train_loss: 1.07 took: 1.23s\n",
      "Epoch 5, 60% \t train_loss: 1.09 took: 1.26s\n",
      "Epoch 5, 70% \t train_loss: 1.08 took: 1.26s\n",
      "Epoch 5, 80% \t train_loss: 1.07 took: 1.26s\n",
      "Epoch 5, 90% \t train_loss: 1.10 took: 1.25s\n",
      "Validation loss = 1.15\n",
      "Epoch 6, 10% \t train_loss: 1.03 took: 1.54s\n",
      "Epoch 6, 20% \t train_loss: 1.01 took: 1.26s\n",
      "Epoch 6, 30% \t train_loss: 1.05 took: 1.23s\n",
      "Epoch 6, 40% \t train_loss: 1.03 took: 1.23s\n",
      "Epoch 6, 50% \t train_loss: 1.02 took: 1.30s\n",
      "Epoch 6, 60% \t train_loss: 0.98 took: 1.24s\n",
      "Epoch 6, 70% \t train_loss: 1.04 took: 1.26s\n",
      "Epoch 6, 80% \t train_loss: 1.03 took: 1.26s\n",
      "Epoch 6, 90% \t train_loss: 1.02 took: 1.24s\n",
      "Validation loss = 1.12\n",
      "Epoch 7, 10% \t train_loss: 0.93 took: 1.54s\n",
      "Epoch 7, 20% \t train_loss: 1.00 took: 1.24s\n",
      "Epoch 7, 30% \t train_loss: 0.95 took: 1.24s\n",
      "Epoch 7, 40% \t train_loss: 0.96 took: 1.25s\n",
      "Epoch 7, 50% \t train_loss: 0.96 took: 1.24s\n",
      "Epoch 7, 60% \t train_loss: 0.98 took: 1.25s\n",
      "Epoch 7, 70% \t train_loss: 0.94 took: 1.25s\n",
      "Epoch 7, 80% \t train_loss: 1.00 took: 1.27s\n",
      "Epoch 7, 90% \t train_loss: 1.01 took: 1.26s\n",
      "Validation loss = 1.14\n",
      "Epoch 8, 10% \t train_loss: 0.89 took: 1.52s\n",
      "Epoch 8, 20% \t train_loss: 0.90 took: 1.23s\n",
      "Epoch 8, 30% \t train_loss: 0.91 took: 1.24s\n",
      "Epoch 8, 40% \t train_loss: 0.91 took: 1.24s\n",
      "Epoch 8, 50% \t train_loss: 0.94 took: 1.25s\n",
      "Epoch 8, 60% \t train_loss: 0.94 took: 1.26s\n",
      "Epoch 8, 70% \t train_loss: 0.92 took: 1.25s\n",
      "Epoch 8, 80% \t train_loss: 0.94 took: 1.26s\n",
      "Epoch 8, 90% \t train_loss: 0.93 took: 1.27s\n",
      "Validation loss = 1.15\n",
      "Epoch 9, 10% \t train_loss: 0.83 took: 1.51s\n",
      "Epoch 9, 20% \t train_loss: 0.88 took: 1.28s\n",
      "Epoch 9, 30% \t train_loss: 0.84 took: 1.25s\n",
      "Epoch 9, 40% \t train_loss: 0.88 took: 1.23s\n",
      "Epoch 9, 50% \t train_loss: 0.86 took: 1.25s\n",
      "Epoch 9, 60% \t train_loss: 0.90 took: 1.25s\n",
      "Epoch 9, 70% \t train_loss: 0.93 took: 1.25s\n",
      "Epoch 9, 80% \t train_loss: 0.90 took: 1.28s\n",
      "Epoch 9, 90% \t train_loss: 0.90 took: 1.25s\n",
      "Validation loss = 1.14\n",
      "Epoch 10, 10% \t train_loss: 0.84 took: 1.52s\n",
      "Epoch 10, 20% \t train_loss: 0.81 took: 1.26s\n",
      "Epoch 10, 30% \t train_loss: 0.81 took: 1.26s\n",
      "Epoch 10, 40% \t train_loss: 0.83 took: 1.25s\n",
      "Epoch 10, 50% \t train_loss: 0.84 took: 1.23s\n",
      "Epoch 10, 60% \t train_loss: 0.87 took: 1.28s\n",
      "Epoch 10, 70% \t train_loss: 0.87 took: 1.25s\n",
      "Epoch 10, 80% \t train_loss: 0.86 took: 1.24s\n",
      "Epoch 10, 90% \t train_loss: 0.85 took: 1.24s\n",
      "Validation loss = 1.14\n",
      "Training Finished, took 151.00s\n"
     ]
    }
   ],
   "source": [
    "cnn = CNN()\n",
    "\n",
    "train_history, val_history = train(cnn, batch_size=32, n_epochs=10, learning_rate=0.001)"
   ]
  },
  {
   "cell_type": "code",
   "execution_count": null,
   "metadata": {
    "id": "Dh5KHxpEkkxY"
   },
   "outputs": [],
   "source": [
    "# Colors from Colorbrewer Paired_12\n",
    "colors = [[31, 120, 180], [51, 160, 44]]\n",
    "colors = [(r / 255, g / 255, b / 255) for (r, g, b) in colors]\n",
    "\n",
    "# functions to show an image\n",
    "def imshow(img):\n",
    "    \"\"\"\n",
    "    :param img: (PyTorch Tensor)\n",
    "    \"\"\"\n",
    "    # unnormalize\n",
    "    img = img / 2 + 0.5     \n",
    "    # Convert tensor to numpy array\n",
    "    npimg = img.numpy()\n",
    "    # Color channel first -> color channel last\n",
    "    plt.imshow(np.transpose(npimg, (1, 2, 0)))"
   ]
  },
  {
   "cell_type": "code",
   "execution_count": null,
   "metadata": {
    "id": "0ywWUti_kkxj"
   },
   "outputs": [],
   "source": [
    "def plot_losses(train_history, val_history):\n",
    "    x = np.arange(1, len(train_history) + 1)\n",
    "\n",
    "    plt.figure(figsize=(8, 6))\n",
    "    plt.plot(x, train_history, color=colors[0], label=\"Training loss\", linewidth=2)\n",
    "    plt.plot(x, val_history, color=colors[1], label=\"Validation loss\", linewidth=2)\n",
    "    plt.xlabel('Epoch')\n",
    "    plt.ylabel('Loss')\n",
    "    plt.legend(loc='upper right')\n",
    "    plt.title(\"Evolution of the training and validation loss\")\n",
    "    plt.show()"
   ]
  },
  {
   "cell_type": "code",
   "execution_count": null,
   "metadata": {
    "colab": {
     "base_uri": "https://localhost:8080/",
     "height": 404
    },
    "id": "Sfwr-u8Nkkxs",
    "outputId": "d5487504-ffdd-4af6-e188-1a22d73dfd1e"
   },
   "outputs": [
    {
     "data": {
      "image/png": "[encoded data removed]",
      "text/plain": [
       "<Figure size 576x432 with 1 Axes>"
      ]
     },
     "metadata": {
      "needs_background": "light",
      "tags": []
     },
     "output_type": "display_data"
    }
   ],
   "source": [
    "plot_losses(train_history, val_history)"
   ]
  },
  {
   "cell_type": "code",
   "execution_count": 64,
   "metadata": {
    "id": "CkgXTc2Pkkx5"
   },
   "outputs": [],
   "source": [
    "def dataset_accuracy(net, data_loader, name=\"\"):\n",
    "    net = net.to(device)\n",
    "    correct = 0\n",
    "    total = 0\n",
    "    for images, labels in data_loader:\n",
    "        images, labels = images.to(device), labels.to(device)\n",
    "        outputs = net(images)\n",
    "        _, predicted = torch.max(outputs, 1)\n",
    "        total += labels.size(0)\n",
    "        correct += (predicted == labels).sum()\n",
    "    accuracy = 100 * float(correct) / total\n",
    "    print('Accuracy of the network on the {} {} images: {:.2f} %'.format(total, name, accuracy))\n",
    "\n",
    "def train_set_accuracy(net):\n",
    "    dataset_accuracy(net, train_loader, \"train\")\n",
    "\n",
    "def val_set_accuracy(net):\n",
    "    dataset_accuracy(net, val_loader, \"validation\")  \n",
    "    \n",
    "def test_set_accuracy(net):\n",
    "    dataset_accuracy(net, test_loader, \"test\")\n",
    "\n",
    "def compute_accuracy(net):\n",
    "    train_set_accuracy(net)\n",
    "    val_set_accuracy(net)\n",
    "    test_set_accuracy(net)"
   ]
  },
  {
   "cell_type": "code",
   "execution_count": null,
   "metadata": {
    "colab": {
     "base_uri": "https://localhost:8080/",
     "height": 85
    },
    "id": "Hy-Ivxz_kkyE",
    "outputId": "b54b6f0e-e745-48c0-d2f4-2b6c0d604fad"
   },
   "outputs": [
    {
     "name": "stdout",
     "output_type": "stream",
     "text": [
      "Computing accuracy...\n",
      "Accuracy of the network on the 40000 train images: 66.74 %\n",
      "Accuracy of the network on the 10000 validation images: 60.62 %\n",
      "Accuracy of the network on the 10000 test images: 60.07 %\n"
     ]
    }
   ],
   "source": [
    "print(\"Computing accuracy...\")\n",
    "compute_accuracy(cnn)"
   ]
  },
  {
   "cell_type": "code",
   "execution_count": 65,
   "metadata": {
    "id": "wUB59CJTkkyO"
   },
   "outputs": [],
   "source": [
    "def accuracy_per_class(net):\n",
    "    net = net.to(device)\n",
    "    n_classes = 10\n",
    "    # (real, predicted)\n",
    "    confusion_matrix = np.zeros((n_classes, n_classes), dtype=np.int64)\n",
    "\n",
    "    for images, labels in test_loader:\n",
    "        images, labels = images, labels = images.to(device), labels.to(device)\n",
    "        outputs = net(images)\n",
    "        _, predicted = torch.max(outputs.data, 1)\n",
    "        for i in range(test_batch_size):\n",
    "            confusion_matrix[labels[i], predicted[i]] += 1\n",
    "            label = labels[i]\n",
    "\n",
    "    print(\"{:<10} {:^10}\".format(\"Class\", \"Accuracy (%)\"))\n",
    "    for i in range(n_classes):\n",
    "        class_total = confusion_matrix[i, :].sum()\n",
    "        class_correct = confusion_matrix[i, i]\n",
    "        percentage_correct = 100.0 * float(class_correct) / class_total\n",
    "        \n",
    "        print('{:<10} {:^10.2f}'.format(classes[i], percentage_correct))\n",
    "    return confusion_matrix"
   ]
  },
  {
   "cell_type": "code",
   "execution_count": null,
   "metadata": {
    "colab": {
     "base_uri": "https://localhost:8080/",
     "height": 204
    },
    "id": "sugjEdpXkkyY",
    "outputId": "5954e4f1-7055-4a96-a0fa-ec8863ea238c"
   },
   "outputs": [
    {
     "name": "stdout",
     "output_type": "stream",
     "text": [
      "Class      Accuracy (%)\n",
      "plane        54.90   \n",
      "car          68.00   \n",
      "bird         39.00   \n",
      "cat          32.30   \n",
      "deer         56.20   \n",
      "dog          54.30   \n",
      "frog         71.50   \n",
      "horse        72.70   \n",
      "ship         82.20   \n",
      "truck        69.60   \n"
     ]
    }
   ],
   "source": [
    "confusion_matrix = accuracy_per_class(cnn)"
   ]
  },
  {
   "cell_type": "markdown",
   "metadata": {
    "id": "4ap5v7EXkkyi"
   },
   "source": [
    "**Comment**:\n",
    "> - With 5 epochs, the model was doing poorly, especially for the class of deer, and car. The accuracy was 28,90%, and 46% respectively.\n",
    "> -"
   ]
  },
  {
   "cell_type": "markdown",
   "metadata": {
    "id": "_KjPJdKdkkyj"
   },
   "source": [
    "-----------------------------------------------------------------------------"
   ]
  },
  {
   "cell_type": "markdown",
   "metadata": {
    "id": "q0D9KyXlkkyl"
   },
   "source": [
    "### 2 \\ Using DropOut:\n",
    "\n",
    "- Dropout is a technique where randomly selected neurons are ignored during training. They are “dropped-out” randomly. This means that their contribution to the activation of downstream neurons is temporally removed on the forward pass and any weight updates are not applied to the neuron on the backward pass.\n",
    "\n",
    "> **References:** \n",
    ">> - Representing model uncertainty in deep learning - ‎Gal - Cited by 2434\n",
    ">> - Variational dropout sparsifies deep neural networks - ‎Molchanov - Cited by 352\n",
    ">> - Dropout: a simple way to prevent neural networks from … - ‎Srivastava - Cited by 23259"
   ]
  },
  {
   "cell_type": "code",
   "execution_count": null,
   "metadata": {
    "id": "BIt7IyA-kkyn"
   },
   "outputs": [],
   "source": [
    "# Build the CNN\n",
    "class CNN_with_dropout(nn.Module):\n",
    "    def __init__(self, dropout=0.2):\n",
    "        super(CNN_with_dropout, self).__init__()\n",
    "        \n",
    "        self.conv1 = nn.Conv2d(in_channels=3, out_channels=32, kernel_size=5, stride=1, padding=2)\n",
    "        #3*32*32 -> 32*32*32\n",
    "        self.dropout1 = nn.Dropout(p=dropout)        \n",
    "        self.pool1 = nn.MaxPool2d(kernel_size=(2,2), stride=2)\n",
    "        #32*32*32 -> 16*16*32\n",
    "        self.conv2 = nn.Conv2d(32, 64, 3, stride=1, padding=1)\n",
    "        #16*16*32 -> 16*16*64\n",
    "        self.dropout2 = nn.Dropout(p=dropout)\n",
    "        self.pool2 = nn.MaxPool2d(kernel_size=(2,2), stride=2)\n",
    "        #16*16*64 -> 8*8*64\n",
    "        self.fc1 = nn.Linear(8*8*64, 1024)\n",
    "        self.dropout3 = nn.Dropout(p=dropout)\n",
    "        self.fc2 = nn.Linear(1024, 512)\n",
    "        self.dropout4 = nn.Dropout(p=dropout)\n",
    "        self.fc3 = nn.Linear(512, 10)\n",
    "            \n",
    "\n",
    "    def forward(self, x):\n",
    "        x = self.dropout1(self.conv1(x))\n",
    "        x = self.pool1(F.relu(x))\n",
    "        x = self.dropout2(self.conv2(x))\n",
    "        x = self.pool2(F.relu(x))\n",
    "        x = x.view(-1, self.num_flat_features(x)) \n",
    "        #self.num_flat_features(x) = 8*8*64 here.\n",
    "        #-1 means: get the rest a row (in this case is 16 mini-batches)\n",
    "        #pytorch nn only takes mini-batch as the input\n",
    "        \n",
    "        x = F.relu(self.fc1(x))\n",
    "        x = self.dropout3(x)\n",
    "        x = F.relu(self.fc2(x))\n",
    "        x = self.dropout4(x)\n",
    "        x = self.fc3(x)\n",
    "        return x\n",
    "    \n",
    "    def num_flat_features(self, x):\n",
    "        size = x.size()[1:] # all dimensions except the batch dimension\n",
    "        num_features = 1\n",
    "        for s in size:\n",
    "            num_features *= s\n",
    "        return num_features"
   ]
  },
  {
   "cell_type": "code",
   "execution_count": null,
   "metadata": {
    "id": "5ttFQRMDkkyy",
    "outputId": "0e2c583e-685c-4527-a68b-e0133490ad05"
   },
   "outputs": [
    {
     "name": "stdout",
     "output_type": "stream",
     "text": [
      "===== HYPERPARAMETERS =====\n",
      "batch_size= 32\n",
      "n_epochs= 20\n",
      "learning_rate= 0.001\n",
      "==============================\n",
      "Epoch 1, 10% \t train_loss: 2.00 took: 27.64s\n",
      "Epoch 1, 20% \t train_loss: 1.65 took: 3.40s\n",
      "Epoch 1, 30% \t train_loss: 1.51 took: 3.06s\n",
      "Epoch 1, 40% \t train_loss: 1.43 took: 3.18s\n",
      "Epoch 1, 50% \t train_loss: 1.34 took: 3.17s\n",
      "Epoch 1, 60% \t train_loss: 1.35 took: 3.31s\n",
      "Epoch 1, 70% \t train_loss: 1.31 took: 3.18s\n",
      "Epoch 1, 80% \t train_loss: 1.25 took: 3.08s\n",
      "Epoch 1, 90% \t train_loss: 1.21 took: 2.96s\n",
      "Validation loss = 1.29\n",
      "Epoch 2, 10% \t train_loss: 1.08 took: 34.88s\n",
      "Epoch 2, 20% \t train_loss: 1.08 took: 2.95s\n",
      "Epoch 2, 30% \t train_loss: 1.06 took: 3.00s\n",
      "Epoch 2, 40% \t train_loss: 1.07 took: 2.98s\n",
      "Epoch 2, 50% \t train_loss: 0.99 took: 3.08s\n",
      "Epoch 2, 60% \t train_loss: 1.05 took: 2.99s\n",
      "Epoch 2, 70% \t train_loss: 1.02 took: 2.94s\n",
      "Epoch 2, 80% \t train_loss: 1.03 took: 2.95s\n",
      "Epoch 2, 90% \t train_loss: 1.04 took: 3.09s\n",
      "Validation loss = 1.05\n",
      "Epoch 3, 10% \t train_loss: 0.84 took: 34.46s\n",
      "Epoch 3, 20% \t train_loss: 0.89 took: 3.00s\n",
      "Epoch 3, 30% \t train_loss: 0.87 took: 2.96s\n",
      "Epoch 3, 40% \t train_loss: 0.88 took: 2.96s\n",
      "Epoch 3, 50% \t train_loss: 0.87 took: 2.91s\n",
      "Epoch 3, 60% \t train_loss: 0.89 took: 2.94s\n",
      "Epoch 3, 70% \t train_loss: 0.85 took: 2.95s\n",
      "Epoch 3, 80% \t train_loss: 0.90 took: 3.08s\n",
      "Epoch 3, 90% \t train_loss: 0.90 took: 3.30s\n",
      "Validation loss = 0.96\n",
      "Epoch 4, 10% \t train_loss: 0.67 took: 35.66s\n",
      "Epoch 4, 20% \t train_loss: 0.70 took: 3.10s\n",
      "Epoch 4, 30% \t train_loss: 0.73 took: 3.15s\n",
      "Epoch 4, 40% \t train_loss: 0.75 took: 3.10s\n",
      "Epoch 4, 50% \t train_loss: 0.73 took: 3.23s\n",
      "Epoch 4, 60% \t train_loss: 0.75 took: 3.05s\n",
      "Epoch 4, 70% \t train_loss: 0.72 took: 2.99s\n",
      "Epoch 4, 80% \t train_loss: 0.73 took: 3.51s\n",
      "Epoch 4, 90% \t train_loss: 0.74 took: 3.06s\n",
      "Validation loss = 0.96\n",
      "Epoch 5, 10% \t train_loss: 0.57 took: 35.15s\n",
      "Epoch 5, 20% \t train_loss: 0.57 took: 3.06s\n",
      "Epoch 5, 30% \t train_loss: 0.60 took: 3.05s\n",
      "Epoch 5, 40% \t train_loss: 0.61 took: 3.00s\n",
      "Epoch 5, 50% \t train_loss: 0.60 took: 2.99s\n",
      "Epoch 5, 60% \t train_loss: 0.61 took: 3.11s\n",
      "Epoch 5, 70% \t train_loss: 0.64 took: 3.05s\n",
      "Epoch 5, 80% \t train_loss: 0.64 took: 3.03s\n",
      "Epoch 5, 90% \t train_loss: 0.61 took: 3.09s\n",
      "Validation loss = 1.00\n",
      "Epoch 6, 10% \t train_loss: 0.46 took: 35.87s\n",
      "Epoch 6, 20% \t train_loss: 0.48 took: 2.93s\n",
      "Epoch 6, 30% \t train_loss: 0.49 took: 2.95s\n",
      "Epoch 6, 40% \t train_loss: 0.51 took: 2.95s\n",
      "Epoch 6, 50% \t train_loss: 0.50 took: 2.93s\n",
      "Epoch 6, 60% \t train_loss: 0.54 took: 2.95s\n",
      "Epoch 6, 70% \t train_loss: 0.54 took: 2.93s\n",
      "Epoch 6, 80% \t train_loss: 0.53 took: 3.20s\n",
      "Epoch 6, 90% \t train_loss: 0.54 took: 3.27s\n",
      "Validation loss = 1.02\n",
      "Epoch 7, 10% \t train_loss: 0.37 took: 34.47s\n",
      "Epoch 7, 20% \t train_loss: 0.38 took: 3.27s\n",
      "Epoch 7, 30% \t train_loss: 0.41 took: 3.38s\n",
      "Epoch 7, 40% \t train_loss: 0.43 took: 3.25s\n",
      "Epoch 7, 50% \t train_loss: 0.42 took: 3.13s\n",
      "Epoch 7, 60% \t train_loss: 0.45 took: 2.97s\n",
      "Epoch 7, 70% \t train_loss: 0.44 took: 3.10s\n",
      "Epoch 7, 80% \t train_loss: 0.45 took: 3.23s\n",
      "Epoch 7, 90% \t train_loss: 0.46 took: 3.17s\n",
      "Validation loss = 1.10\n",
      "Epoch 8, 10% \t train_loss: 0.31 took: 26.53s\n",
      "Epoch 8, 20% \t train_loss: 0.33 took: 2.71s\n",
      "Epoch 8, 30% \t train_loss: 0.35 took: 2.91s\n",
      "Epoch 8, 40% \t train_loss: 0.37 took: 2.73s\n",
      "Epoch 8, 50% \t train_loss: 0.37 took: 2.75s\n",
      "Epoch 8, 60% \t train_loss: 0.36 took: 2.97s\n",
      "Epoch 8, 70% \t train_loss: 0.40 took: 3.19s\n",
      "Epoch 8, 80% \t train_loss: 0.38 took: 3.02s\n",
      "Epoch 8, 90% \t train_loss: 0.38 took: 3.00s\n",
      "Validation loss = 1.20\n",
      "Epoch 9, 10% \t train_loss: 0.28 took: 27.49s\n",
      "Epoch 9, 20% \t train_loss: 0.28 took: 2.98s\n",
      "Epoch 9, 30% \t train_loss: 0.29 took: 2.92s\n",
      "Epoch 9, 40% \t train_loss: 0.33 took: 2.94s\n",
      "Epoch 9, 50% \t train_loss: 0.31 took: 3.00s\n",
      "Epoch 9, 60% \t train_loss: 0.36 took: 3.15s\n",
      "Epoch 9, 70% \t train_loss: 0.34 took: 3.04s\n",
      "Epoch 9, 80% \t train_loss: 0.30 took: 3.02s\n",
      "Epoch 9, 90% \t train_loss: 0.35 took: 3.99s\n",
      "Validation loss = 1.26\n",
      "Epoch 10, 10% \t train_loss: 0.26 took: 33.35s\n",
      "Epoch 10, 20% \t train_loss: 0.27 took: 3.27s\n",
      "Epoch 10, 30% \t train_loss: 0.25 took: 3.02s\n",
      "Epoch 10, 40% \t train_loss: 0.27 took: 3.22s\n",
      "Epoch 10, 50% \t train_loss: 0.28 took: 3.24s\n",
      "Epoch 10, 60% \t train_loss: 0.29 took: 3.06s\n",
      "Epoch 10, 70% \t train_loss: 0.30 took: 3.01s\n",
      "Epoch 10, 80% \t train_loss: 0.30 took: 3.02s\n",
      "Epoch 10, 90% \t train_loss: 0.31 took: 2.98s\n",
      "Validation loss = 1.31\n",
      "Epoch 11, 10% \t train_loss: 0.22 took: 34.60s\n",
      "Epoch 11, 20% \t train_loss: 0.22 took: 2.94s\n",
      "Epoch 11, 30% \t train_loss: 0.24 took: 2.81s\n",
      "Epoch 11, 40% \t train_loss: 0.27 took: 2.73s\n",
      "Epoch 11, 50% \t train_loss: 0.26 took: 2.89s\n",
      "Epoch 11, 60% \t train_loss: 0.25 took: 3.29s\n",
      "Epoch 11, 70% \t train_loss: 0.26 took: 3.21s\n",
      "Epoch 11, 80% \t train_loss: 0.28 took: 3.13s\n",
      "Epoch 11, 90% \t train_loss: 0.27 took: 3.17s\n",
      "Validation loss = 1.35\n",
      "Epoch 12, 10% \t train_loss: 0.19 took: 29.96s\n",
      "Epoch 12, 20% \t train_loss: 0.21 took: 2.99s\n",
      "Epoch 12, 30% \t train_loss: 0.23 took: 3.22s\n",
      "Epoch 12, 40% \t train_loss: 0.23 took: 3.05s\n",
      "Epoch 12, 50% \t train_loss: 0.25 took: 3.19s\n",
      "Epoch 12, 60% \t train_loss: 0.25 took: 3.15s\n",
      "Epoch 12, 70% \t train_loss: 0.26 took: 3.11s\n",
      "Epoch 12, 80% \t train_loss: 0.27 took: 3.08s\n",
      "Epoch 12, 90% \t train_loss: 0.26 took: 3.09s\n",
      "Validation loss = 1.49\n",
      "Epoch 13, 10% \t train_loss: 0.19 took: 28.45s\n",
      "Epoch 13, 20% \t train_loss: 0.19 took: 2.92s\n",
      "Epoch 13, 30% \t train_loss: 0.21 took: 3.14s\n",
      "Epoch 13, 40% \t train_loss: 0.22 took: 3.01s\n",
      "Epoch 13, 50% \t train_loss: 0.22 took: 3.08s\n",
      "Epoch 13, 60% \t train_loss: 0.24 took: 2.93s\n",
      "Epoch 13, 70% \t train_loss: 0.28 took: 2.92s\n",
      "Epoch 13, 80% \t train_loss: 0.24 took: 2.82s\n",
      "Epoch 13, 90% \t train_loss: 0.26 took: 2.91s\n",
      "Validation loss = 1.49\n",
      "Epoch 14, 10% \t train_loss: 0.18 took: 26.84s\n",
      "Epoch 14, 20% \t train_loss: 0.17 took: 2.66s\n",
      "Epoch 14, 30% \t train_loss: 0.19 took: 2.64s\n",
      "Epoch 14, 40% \t train_loss: 0.23 took: 2.61s\n",
      "Epoch 14, 50% \t train_loss: 0.21 took: 2.67s\n",
      "Epoch 14, 60% \t train_loss: 0.23 took: 2.64s\n",
      "Epoch 14, 70% \t train_loss: 0.22 took: 2.68s\n",
      "Epoch 14, 80% \t train_loss: 0.23 took: 2.63s\n",
      "Epoch 14, 90% \t train_loss: 0.24 took: 2.63s\n",
      "Validation loss = 1.56\n",
      "Epoch 15, 10% \t train_loss: 0.16 took: 35.19s\n",
      "Epoch 15, 20% \t train_loss: 0.16 took: 3.31s\n",
      "Epoch 15, 30% \t train_loss: 0.19 took: 3.04s\n",
      "Epoch 15, 40% \t train_loss: 0.20 took: 2.93s\n",
      "Epoch 15, 50% \t train_loss: 0.21 took: 2.71s\n",
      "Epoch 15, 60% \t train_loss: 0.20 took: 3.27s\n",
      "Epoch 15, 70% \t train_loss: 0.22 took: 3.40s\n",
      "Epoch 15, 80% \t train_loss: 0.21 took: 3.38s\n",
      "Epoch 15, 90% \t train_loss: 0.23 took: 3.13s\n",
      "Validation loss = 1.70\n",
      "Epoch 16, 10% \t train_loss: 0.15 took: 26.26s\n",
      "Epoch 16, 20% \t train_loss: 0.19 took: 3.03s\n",
      "Epoch 16, 30% \t train_loss: 0.20 took: 3.04s\n",
      "Epoch 16, 40% \t train_loss: 0.18 took: 3.12s\n",
      "Epoch 16, 50% \t train_loss: 0.22 took: 3.36s\n",
      "Epoch 16, 60% \t train_loss: 0.22 took: 3.05s\n",
      "Epoch 16, 70% \t train_loss: 0.19 took: 3.08s\n",
      "Epoch 16, 80% \t train_loss: 0.22 took: 3.20s\n",
      "Epoch 16, 90% \t train_loss: 0.21 took: 3.04s\n",
      "Validation loss = 1.56\n",
      "Epoch 17, 10% \t train_loss: 0.14 took: 24.20s\n",
      "Epoch 17, 20% \t train_loss: 0.16 took: 2.63s\n",
      "Epoch 17, 30% \t train_loss: 0.18 took: 2.58s\n",
      "Epoch 17, 40% \t train_loss: 0.15 took: 2.60s\n",
      "Epoch 17, 50% \t train_loss: 0.18 took: 2.61s\n",
      "Epoch 17, 60% \t train_loss: 0.16 took: 2.63s\n",
      "Epoch 17, 70% \t train_loss: 0.22 took: 3.01s\n",
      "Epoch 17, 80% \t train_loss: 0.22 took: 3.11s\n",
      "Epoch 17, 90% \t train_loss: 0.22 took: 3.21s\n",
      "Validation loss = 1.71\n",
      "Epoch 18, 10% \t train_loss: 0.18 took: 27.42s\n",
      "Epoch 18, 20% \t train_loss: 0.14 took: 2.82s\n",
      "Epoch 18, 30% \t train_loss: 0.16 took: 2.59s\n",
      "Epoch 18, 40% \t train_loss: 0.16 took: 2.57s\n",
      "Epoch 18, 50% \t train_loss: 0.17 took: 2.58s\n",
      "Epoch 18, 60% \t train_loss: 0.20 took: 2.58s\n",
      "Epoch 18, 70% \t train_loss: 0.16 took: 2.58s\n",
      "Epoch 18, 80% \t train_loss: 0.23 took: 2.58s\n",
      "Epoch 18, 90% \t train_loss: 0.19 took: 2.57s\n",
      "Validation loss = 1.65\n",
      "Epoch 19, 10% \t train_loss: 0.14 took: 24.43s\n",
      "Epoch 19, 20% \t train_loss: 0.15 took: 2.71s\n",
      "Epoch 19, 30% \t train_loss: 0.14 took: 3.01s\n",
      "Epoch 19, 40% \t train_loss: 0.20 took: 3.11s\n",
      "Epoch 19, 50% \t train_loss: 0.18 took: 3.13s\n",
      "Epoch 19, 60% \t train_loss: 0.16 took: 3.19s\n",
      "Epoch 19, 70% \t train_loss: 0.20 took: 2.83s\n",
      "Epoch 19, 80% \t train_loss: 0.19 took: 2.71s\n",
      "Epoch 19, 90% \t train_loss: 0.20 took: 3.04s\n",
      "Validation loss = 1.73\n",
      "Epoch 20, 10% \t train_loss: 0.14 took: 35.95s\n",
      "Epoch 20, 20% \t train_loss: 0.15 took: 3.08s\n",
      "Epoch 20, 30% \t train_loss: 0.16 took: 3.06s\n",
      "Epoch 20, 40% \t train_loss: 0.16 took: 2.97s\n",
      "Epoch 20, 50% \t train_loss: 0.18 took: 3.03s\n",
      "Epoch 20, 60% \t train_loss: 0.19 took: 2.77s\n",
      "Epoch 20, 70% \t train_loss: 0.19 took: 2.64s\n",
      "Epoch 20, 80% \t train_loss: 0.19 took: 2.72s\n",
      "Epoch 20, 90% \t train_loss: 0.19 took: 2.66s\n",
      "Validation loss = 1.76\n",
      "Training Finished, took 1805.55s\n"
     ]
    }
   ],
   "source": [
    "cnn_with_Drop = CNN_with_dropout()\n",
    "\n",
    "train_history, val_history = train(cnn_with_Drop, batch_size=32, n_epochs=20, learning_rate=0.001)"
   ]
  },
  {
   "cell_type": "code",
   "execution_count": null,
   "metadata": {
    "id": "t2HSUyXwkky7",
    "outputId": "d562c423-91e0-41e1-8218-b4cd37da8e96"
   },
   "outputs": [
    {
     "data": {
      "image/png": "[encoded data removed]",
      "text/plain": [
       "<Figure size 576x432 with 1 Axes>"
      ]
     },
     "metadata": {
      "needs_background": "light",
      "tags": []
     },
     "output_type": "display_data"
    }
   ],
   "source": [
    "plot_losses(train_history, val_history)"
   ]
  },
  {
   "cell_type": "code",
   "execution_count": null,
   "metadata": {
    "id": "EXQuBIvukkzI",
    "outputId": "3eea81c6-21f8-4aa0-c949-11f68909a806"
   },
   "outputs": [
    {
     "name": "stdout",
     "output_type": "stream",
     "text": [
      "Computing accuracy...\n",
      "Accuracy of the network on the 40000 train images: 78.67 %\n",
      "Accuracy of the network on the 10000 validation images: 68.17 %\n",
      "Accuracy of the network on the 10000 test images: 66.71 %\n"
     ]
    }
   ],
   "source": [
    "print(\"Computing accuracy...\")\n",
    "compute_accuracy(cnn_with_Drop)"
   ]
  },
  {
   "cell_type": "code",
   "execution_count": null,
   "metadata": {
    "id": "-GN4x0xAkkzT",
    "outputId": "96337c35-3863-4b7d-a4c9-0ec480d67895"
   },
   "outputs": [
    {
     "name": "stdout",
     "output_type": "stream",
     "text": [
      "Class      Accuracy (%)\n",
      "plane        80.10   \n",
      "car          79.00   \n",
      "bird         54.80   \n",
      "cat          59.80   \n",
      "deer         57.30   \n",
      "dog          28.50   \n",
      "frog         78.60   \n",
      "horse        78.50   \n",
      "ship         76.70   \n",
      "truck        73.60   \n"
     ]
    }
   ],
   "source": [
    "confusion_matrix = accuracy_per_class(cnn_with_Drop)"
   ]
  },
  {
   "cell_type": "markdown",
   "metadata": {
    "id": "3LCnIP-Kkkzb"
   },
   "source": [
    "**Comment:**\n",
    "- As illustrated above, we can see that the accuracy on the dataset is incrementing which means that our model is overfitting, even though the accuracy has improved comparison to the previous CNN model.\n",
    "- In order to prevent this, we can using early stopping technique or use only 14 epochs since we can see that the loss does not decrment that much after 14 epochs."
   ]
  },
  {
   "cell_type": "markdown",
   "metadata": {
    "id": "oevLP5m0kkzd"
   },
   "source": [
    "### Transfer Learning using VGG-16:\n",
    "- Transfer learning is specifically using a neural network that has been pre-trained on a much larger dataset. The main benefit of using transfer learning is that the neural network has already learned many important features from a large dataset. When we use that network on our own dataset, we just need to tweak a few things to achieve good results.\n",
    "\n",
    "- We will be downloading the VGG16 from PyTorch models and it uses the weights of ImageNet. The VGG network model was introduced by Karen Simonyan and Andrew Zisserman in the paper named Very Deep Convolutional Networks for Large-Scale Image Recognition. Be sure to give the paper a read if you like to get into the details."
   ]
  },
  {
   "attachments": {
    "vgg16.jpg": {
     "image/jpeg": "[encoded data removed]"
    }
   },
   "cell_type": "markdown",
   "metadata": {
    "id": "wBD0WfGVkkzf"
   },
   "source": [
    "![vgg16.jpg](attachment:vgg16.jpg)"
   ]
  },
  {
   "cell_type": "code",
   "execution_count": null,
   "metadata": {
    "colab": {
     "base_uri": "https://localhost:8080/",
     "height": 34
    },
    "id": "nKmBqSPEkkzi",
    "outputId": "64f514ba-a917-42cd-e785-1d32ab447f80"
   },
   "outputs": [
    {
     "name": "stdout",
     "output_type": "stream",
     "text": [
      "cuda:0\n"
     ]
    }
   ],
   "source": [
    "import torch\n",
    "import torchvision\n",
    "import torchvision.transforms as transforms\n",
    "import torch.optim as optim\n",
    "import time\n",
    "import torch.nn.functional as F\n",
    "import torch.nn as nn\n",
    "import matplotlib.pyplot as plt\n",
    "from torchvision import models\n",
    "\n",
    "# check GPU availability\n",
    "device = torch.device(\"cuda:0\" if torch.cuda.is_available() else \"cpu\")\n",
    "print(device)"
   ]
  },
  {
   "cell_type": "code",
   "execution_count": null,
   "metadata": {
    "id": "zQjnjPoGkkzr"
   },
   "outputs": [],
   "source": [
    "torch.cuda.empty_cache()"
   ]
  },
  {
   "cell_type": "code",
   "execution_count": null,
   "metadata": {
    "colab": {
     "base_uri": "https://localhost:8080/",
     "height": 51
    },
    "id": "eIBQrSvukkz1",
    "outputId": "a4c94b8d-fa19-4495-822f-e67e5b46f763"
   },
   "outputs": [
    {
     "name": "stdout",
     "output_type": "stream",
     "text": [
      "Files already downloaded and verified\n",
      "Files already downloaded and verified\n"
     ]
    }
   ],
   "source": [
    "#Reloading the dataset and rescaling it since VGG-16 requires specific size for input(224*224)\n",
    "\n",
    "transform = transforms.Compose(\n",
    "    [transforms.Resize((224, 224)),\n",
    "     transforms.ToTensor(),\n",
    "     transforms.Normalize((0.5, 0.5, 0.5), (0.5, 0.5, 0.5))])\n",
    "trainset = torchvision.datasets.CIFAR10(root='./data', train=True,\n",
    "                                        download=True, transform=transform)\n",
    "trainloader = torch.utils.data.DataLoader(trainset, batch_size=32,\n",
    "                                          shuffle=True)\n",
    "testset = torchvision.datasets.CIFAR10(root='./data', train=False,\n",
    "                                       download=True, transform=transform)\n",
    "testloader = torch.utils.data.DataLoader(testset, batch_size=32,\n",
    "                                         shuffle=False)"
   ]
  },
  {
   "cell_type": "code",
   "execution_count": null,
   "metadata": {
    "colab": {
     "base_uri": "https://localhost:8080/",
     "height": 782
    },
    "id": "PoYvNLTokk0B",
    "outputId": "4a3484c6-e7d8-4c3c-ddac-9b3e663035a9"
   },
   "outputs": [
    {
     "name": "stdout",
     "output_type": "stream",
     "text": [
      "VGG(\n",
      "  (features): Sequential(\n",
      "    (0): Conv2d(3, 64, kernel_size=(3, 3), stride=(1, 1), padding=(1, 1))\n",
      "    (1): ReLU(inplace=True)\n",
      "    (2): Conv2d(64, 64, kernel_size=(3, 3), stride=(1, 1), padding=(1, 1))\n",
      "    (3): ReLU(inplace=True)\n",
      "    (4): MaxPool2d(kernel_size=2, stride=2, padding=0, dilation=1, ceil_mode=False)\n",
      "    (5): Conv2d(64, 128, kernel_size=(3, 3), stride=(1, 1), padding=(1, 1))\n",
      "    (6): ReLU(inplace=True)\n",
      "    (7): Conv2d(128, 128, kernel_size=(3, 3), stride=(1, 1), padding=(1, 1))\n",
      "    (8): ReLU(inplace=True)\n",
      "    (9): MaxPool2d(kernel_size=2, stride=2, padding=0, dilation=1, ceil_mode=False)\n",
      "    (10): Conv2d(128, 256, kernel_size=(3, 3), stride=(1, 1), padding=(1, 1))\n",
      "    (11): ReLU(inplace=True)\n",
      "    (12): Conv2d(256, 256, kernel_size=(3, 3), stride=(1, 1), padding=(1, 1))\n",
      "    (13): ReLU(inplace=True)\n",
      "    (14): Conv2d(256, 256, kernel_size=(3, 3), stride=(1, 1), padding=(1, 1))\n",
      "    (15): ReLU(inplace=True)\n",
      "    (16): MaxPool2d(kernel_size=2, stride=2, padding=0, dilation=1, ceil_mode=False)\n",
      "    (17): Conv2d(256, 512, kernel_size=(3, 3), stride=(1, 1), padding=(1, 1))\n",
      "    (18): ReLU(inplace=True)\n",
      "    (19): Conv2d(512, 512, kernel_size=(3, 3), stride=(1, 1), padding=(1, 1))\n",
      "    (20): ReLU(inplace=True)\n",
      "    (21): Conv2d(512, 512, kernel_size=(3, 3), stride=(1, 1), padding=(1, 1))\n",
      "    (22): ReLU(inplace=True)\n",
      "    (23): MaxPool2d(kernel_size=2, stride=2, padding=0, dilation=1, ceil_mode=False)\n",
      "    (24): Conv2d(512, 512, kernel_size=(3, 3), stride=(1, 1), padding=(1, 1))\n",
      "    (25): ReLU(inplace=True)\n",
      "    (26): Conv2d(512, 512, kernel_size=(3, 3), stride=(1, 1), padding=(1, 1))\n",
      "    (27): ReLU(inplace=True)\n",
      "    (28): Conv2d(512, 512, kernel_size=(3, 3), stride=(1, 1), padding=(1, 1))\n",
      "    (29): ReLU(inplace=True)\n",
      "    (30): MaxPool2d(kernel_size=2, stride=2, padding=0, dilation=1, ceil_mode=False)\n",
      "  )\n",
      "  (avgpool): AdaptiveAvgPool2d(output_size=(7, 7))\n",
      "  (classifier): Sequential(\n",
      "    (0): Linear(in_features=25088, out_features=4096, bias=True)\n",
      "    (1): ReLU(inplace=True)\n",
      "    (2): Dropout(p=0.5, inplace=False)\n",
      "    (3): Linear(in_features=4096, out_features=4096, bias=True)\n",
      "    (4): ReLU(inplace=True)\n",
      "    (5): Dropout(p=0.5, inplace=False)\n",
      "    (6): Linear(in_features=4096, out_features=1000, bias=True)\n",
      "  )\n",
      ")\n"
     ]
    }
   ],
   "source": [
    "vgg16 = models.vgg16(pretrained=True)\n",
    "vgg16.to(device)\n",
    "print(vgg16)"
   ]
  },
  {
   "cell_type": "markdown",
   "metadata": {
    "id": "kg2V7OBgkk0L"
   },
   "source": [
    "_We need to freeze the network since this network architecture was designed for ImagNet dataset (1000 classes), in our case we have only 10 classes._"
   ]
  },
  {
   "cell_type": "code",
   "execution_count": null,
   "metadata": {
    "id": "4x396FIOkk0M"
   },
   "outputs": [],
   "source": [
    "# change the number of classes \n",
    "vgg16.classifier[6].out_features = 10\n",
    "# freeze convolution weights\n",
    "for param in vgg16.features.parameters():\n",
    "    param.requires_grad = False"
   ]
  },
  {
   "cell_type": "code",
   "execution_count": null,
   "metadata": {
    "id": "WKOfRWeWkk0V"
   },
   "outputs": [],
   "source": [
    "# optimizer\n",
    "optimizer = optim.SGD(vgg16.classifier.parameters(), lr=0.001, momentum=0.9)\n",
    "# loss function\n",
    "criterion = nn.CrossEntropyLoss()"
   ]
  },
  {
   "cell_type": "code",
   "execution_count": null,
   "metadata": {
    "id": "d3TE4_DFkk0d"
   },
   "outputs": [],
   "source": [
    "# validation function\n",
    "def validate(model, test_dataloader):\n",
    "    model.eval()\n",
    "    val_running_loss = 0.0\n",
    "    val_running_correct = 0\n",
    "    for int, data in enumerate(test_dataloader):\n",
    "        data, target = data[0].to(device), data[1].to(device)\n",
    "        output = model(data)\n",
    "        loss = criterion(output, target)\n",
    "        \n",
    "        val_running_loss += loss.item()\n",
    "        _, preds = torch.max(output.data, 1)\n",
    "        val_running_correct += (preds == target).sum().item()\n",
    "    \n",
    "    val_loss = val_running_loss/len(test_dataloader.dataset)\n",
    "    val_accuracy = 100. * val_running_correct/len(test_dataloader.dataset)\n",
    "    \n",
    "    return val_loss, val_accuracy"
   ]
  },
  {
   "cell_type": "code",
   "execution_count": null,
   "metadata": {
    "id": "6_OYAdSbkk0n"
   },
   "outputs": [],
   "source": [
    "# training function\n",
    "def fit(model, train_dataloader):\n",
    "    model.train()\n",
    "    train_running_loss = 0.0\n",
    "    train_running_correct = 0\n",
    "    for i, data in enumerate(train_dataloader):\n",
    "        data, target = data[0].to(device), data[1].to(device)\n",
    "        optimizer.zero_grad()\n",
    "        output = model(data)\n",
    "        loss = criterion(output, target)\n",
    "        train_running_loss += loss.item()\n",
    "        _, preds = torch.max(output.data, 1)\n",
    "        train_running_correct += (preds == target).sum().item()\n",
    "        loss.backward()\n",
    "        optimizer.step()\n",
    "    train_loss = train_running_loss/len(train_dataloader.dataset)\n",
    "    train_accuracy = 100. * train_running_correct/len(train_dataloader.dataset)\n",
    "    print(f'Train Loss: {train_loss:.4f}, Train Acc: {train_accuracy:.2f}')\n",
    "    \n",
    "    return train_loss, train_accuracy"
   ]
  },
  {
   "cell_type": "code",
   "execution_count": null,
   "metadata": {
    "colab": {
     "base_uri": "https://localhost:8080/",
     "height": 204
    },
    "id": "zA8SGf2ckk0x",
    "outputId": "caf5131f-a7af-40e9-a2f9-6e27ceb806e7"
   },
   "outputs": [
    {
     "name": "stdout",
     "output_type": "stream",
     "text": [
      "Train Loss: 0.0258, Train Acc: 73.05\n",
      "Train Loss: 0.0148, Train Acc: 83.55\n",
      "Train Loss: 0.0117, Train Acc: 86.77\n",
      "Train Loss: 0.0095, Train Acc: 89.38\n",
      "Train Loss: 0.0075, Train Acc: 91.76\n",
      "Train Loss: 0.0057, Train Acc: 93.64\n",
      "Train Loss: 0.0044, Train Acc: 95.30\n",
      "Train Loss: 0.0032, Train Acc: 96.62\n",
      "Train Loss: 0.0023, Train Acc: 97.56\n",
      "Train Loss: 0.0018, Train Acc: 98.27\n",
      "60.14371847311656 minutes\n"
     ]
    }
   ],
   "source": [
    "train_loss , train_accuracy = [], []\n",
    "val_loss , val_accuracy = [], []\n",
    "start = time.time()\n",
    "for epoch in range(10):\n",
    "    train_epoch_loss, train_epoch_accuracy = fit(vgg16, trainloader)\n",
    "    val_epoch_loss, val_epoch_accuracy = validate(vgg16, testloader)\n",
    "    train_loss.append(train_epoch_loss)\n",
    "    train_accuracy.append(train_epoch_accuracy)\n",
    "    val_loss.append(val_epoch_loss)\n",
    "    val_accuracy.append(val_epoch_accuracy)\n",
    "end = time.time()\n",
    "print((end-start)/60, 'minutes')"
   ]
  },
  {
   "cell_type": "code",
   "execution_count": null,
   "metadata": {
    "colab": {
     "base_uri": "https://localhost:8080/",
     "height": 68
    },
    "id": "-4vhA3Uqkk06",
    "outputId": "9c787604-bcc8-4b85-ce7b-e3c0d9049099"
   },
   "outputs": [
    {
     "name": "stdout",
     "output_type": "stream",
     "text": [
      "/content\n",
      "['.config', 'vgg16_model.pt', 'data', 'sample_data']\n"
     ]
    },
    {
     "data": {
      "text/plain": [
       "<All keys matched successfully>"
      ]
     },
     "execution_count": 18,
     "metadata": {
      "tags": []
     },
     "output_type": "execute_result"
    }
   ],
   "source": [
    "import os\n",
    "torch.save(vgg16.state_dict(), 'vgg16_model.pt')\n",
    "print(os.getcwd())\n",
    "print(os.listdir())\n",
    "vgg16.load_state_dict(torch.load('vgg16_model.pt'))"
   ]
  },
  {
   "cell_type": "code",
   "execution_count": null,
   "metadata": {
    "colab": {
     "base_uri": "https://localhost:8080/",
     "height": 428
    },
    "id": "ZXulSBRxMttl",
    "outputId": "0f2aff27-ca84-4445-93df-f92650276137"
   },
   "outputs": [
    {
     "data": {
      "image/png": "[encoded data removed]",
      "text/plain": [
       "<Figure size 720x504 with 1 Axes>"
      ]
     },
     "metadata": {
      "needs_background": "light",
      "tags": []
     },
     "output_type": "display_data"
    }
   ],
   "source": [
    "plt.figure(figsize=(10, 7))\n",
    "plt.plot(train_accuracy, color='green', label='train accuracy')\n",
    "plt.plot(val_accuracy, color='blue', label='validataion accuracy')\n",
    "plt.legend()\n",
    "plt.savefig('accuracy.png')\n",
    "plt.show()"
   ]
  },
  {
   "cell_type": "code",
   "execution_count": null,
   "metadata": {
    "colab": {
     "base_uri": "https://localhost:8080/",
     "height": 428
    },
    "id": "GeaQvwaykk1D",
    "outputId": "1c2a9376-be8d-49d4-fc64-6908b09b0e1c"
   },
   "outputs": [
    {
     "data": {
      "image/png": "[encoded data removed]",
      "text/plain": [
       "<Figure size 720x504 with 1 Axes>"
      ]
     },
     "metadata": {
      "needs_background": "light",
      "tags": []
     },
     "output_type": "display_data"
    }
   ],
   "source": [
    "plt.figure(figsize=(10, 7))\n",
    "plt.plot(train_loss, color='orange', label='train loss')\n",
    "plt.plot(val_loss, color='red', label='validataion loss')\n",
    "plt.legend()\n",
    "plt.savefig('loss.png')\n",
    "plt.show()"
   ]
  },
  {
   "cell_type": "markdown",
   "metadata": {},
   "source": [
    "------------------------------------------------------------"
   ]
  },
  {
   "cell_type": "markdown",
   "metadata": {
    "id": "TCeOwya0VB7s"
   },
   "source": [
    "### Resnet-18:\n",
    "- Residual Networks are very well neural network architecture type comes as a solution to the problem of degradation (When deeper networks starts converging, a degradation problem has been exposed: with the network depth increasing, accuracy gets saturated and then degrades rapidly).\n",
    "\n",
    "> - ResNet-34 achieved a top-5 validation error of 5.71% better than BN-inception and VGG. ResNet-152 achieves a top-5 validation error of 4.49%. An ensemble of 6 models with different depths achieves a top-5 validation error of 3.57%. Winning the 1st place in ILSVRC-2015.\n",
    "\n",
    "> - Won the 1st place in ILSVRC and COCO 2015 competition in ImageNet Detection, ImageNet localization, Coco detection and Coco segmentation.\n",
    "\n",
    "- Since our dataset is not very big, and avoid long duration of training, we would like to ResNet-18 instead of ResNet-34. \n",
    "- **Paper:** https://arxiv.org/pdf/1512.03385.pdf"
   ]
  },
  {
   "attachments": {
    "ResNet18.png": {
     "image/png": "[encoded data removed]"
    }
   },
   "cell_type": "markdown",
   "metadata": {},
   "source": [
    "![ResNet18.png](attachment:ResNet18.png)"
   ]
  },
  {
   "cell_type": "markdown",
   "metadata": {},
   "source": [
    "**Loading Dataset:** \n",
    "- We have to reload the datasets, since ResNet-18 requires an input of 256*256 format"
   ]
  },
  {
   "cell_type": "code",
   "execution_count": 48,
   "metadata": {
    "colab": {
     "base_uri": "https://localhost:8080/",
     "height": 51
    },
    "id": "AsQ286Fck1Ii",
    "outputId": "1f61e748-f028-49b3-a13a-cf6e11d7b06e"
   },
   "outputs": [
    {
     "name": "stdout",
     "output_type": "stream",
     "text": [
      "Files already downloaded and verified\n",
      "Files already downloaded and verified\n"
     ]
    }
   ],
   "source": [
    "num_workers = 5\n",
    "test_batch_size = 4\n",
    "\n",
    "# transform images using mean and std for pretrained models\n",
    "\n",
    "transform = transforms.Compose(\n",
    "    [transforms.Resize(256),\n",
    "     transforms.ToTensor(),\n",
    "     transforms.Normalize((0.5, 0.5, 0.5), (0.5, 0.5, 0.5))])\n",
    "\n",
    "train_set = torchvision.datasets.CIFAR10(root='./data', train=True,\n",
    "                                        download=True, transform=transform)\n",
    "\n",
    "train_loader = torch.utils.data.DataLoader(train_set, batch_size=test_batch_size, sampler=train_sampler,\n",
    "                                          num_workers=num_workers)\n",
    "\n",
    "test_set = torchvision.datasets.CIFAR10(root='./data', train=False,\n",
    "                                       download=True, transform=transform)\n",
    "test_loader = torch.utils.data.DataLoader(test_set, batch_size=test_batch_size,\n",
    "                                         num_workers=num_workers)\n",
    "\n",
    "classes = ('plane', 'car', 'bird', 'cat', 'deer', 'dog', 'frog', 'horse', 'ship', 'truck')"
   ]
  },
  {
   "cell_type": "code",
   "execution_count": 49,
   "metadata": {
    "colab": {
     "base_uri": "https://localhost:8080/",
     "height": 1000
    },
    "id": "v0uH8dSaVB7v",
    "outputId": "b83ddc8d-a86e-4b3a-81dd-6bf767c29114"
   },
   "outputs": [
    {
     "name": "stdout",
     "output_type": "stream",
     "text": [
      "ResNet(\n",
      "  (conv1): Conv2d(3, 64, kernel_size=(7, 7), stride=(2, 2), padding=(3, 3), bias=False)\n",
      "  (bn1): BatchNorm2d(64, eps=1e-05, momentum=0.1, affine=True, track_running_stats=True)\n",
      "  (relu): ReLU(inplace=True)\n",
      "  (maxpool): MaxPool2d(kernel_size=3, stride=2, padding=1, dilation=1, ceil_mode=False)\n",
      "  (layer1): Sequential(\n",
      "    (0): BasicBlock(\n",
      "      (conv1): Conv2d(64, 64, kernel_size=(3, 3), stride=(1, 1), padding=(1, 1), bias=False)\n",
      "      (bn1): BatchNorm2d(64, eps=1e-05, momentum=0.1, affine=True, track_running_stats=True)\n",
      "      (relu): ReLU(inplace=True)\n",
      "      (conv2): Conv2d(64, 64, kernel_size=(3, 3), stride=(1, 1), padding=(1, 1), bias=False)\n",
      "      (bn2): BatchNorm2d(64, eps=1e-05, momentum=0.1, affine=True, track_running_stats=True)\n",
      "    )\n",
      "    (1): BasicBlock(\n",
      "      (conv1): Conv2d(64, 64, kernel_size=(3, 3), stride=(1, 1), padding=(1, 1), bias=False)\n",
      "      (bn1): BatchNorm2d(64, eps=1e-05, momentum=0.1, affine=True, track_running_stats=True)\n",
      "      (relu): ReLU(inplace=True)\n",
      "      (conv2): Conv2d(64, 64, kernel_size=(3, 3), stride=(1, 1), padding=(1, 1), bias=False)\n",
      "      (bn2): BatchNorm2d(64, eps=1e-05, momentum=0.1, affine=True, track_running_stats=True)\n",
      "    )\n",
      "  )\n",
      "  (layer2): Sequential(\n",
      "    (0): BasicBlock(\n",
      "      (conv1): Conv2d(64, 128, kernel_size=(3, 3), stride=(2, 2), padding=(1, 1), bias=False)\n",
      "      (bn1): BatchNorm2d(128, eps=1e-05, momentum=0.1, affine=True, track_running_stats=True)\n",
      "      (relu): ReLU(inplace=True)\n",
      "      (conv2): Conv2d(128, 128, kernel_size=(3, 3), stride=(1, 1), padding=(1, 1), bias=False)\n",
      "      (bn2): BatchNorm2d(128, eps=1e-05, momentum=0.1, affine=True, track_running_stats=True)\n",
      "      (downsample): Sequential(\n",
      "        (0): Conv2d(64, 128, kernel_size=(1, 1), stride=(2, 2), bias=False)\n",
      "        (1): BatchNorm2d(128, eps=1e-05, momentum=0.1, affine=True, track_running_stats=True)\n",
      "      )\n",
      "    )\n",
      "    (1): BasicBlock(\n",
      "      (conv1): Conv2d(128, 128, kernel_size=(3, 3), stride=(1, 1), padding=(1, 1), bias=False)\n",
      "      (bn1): BatchNorm2d(128, eps=1e-05, momentum=0.1, affine=True, track_running_stats=True)\n",
      "      (relu): ReLU(inplace=True)\n",
      "      (conv2): Conv2d(128, 128, kernel_size=(3, 3), stride=(1, 1), padding=(1, 1), bias=False)\n",
      "      (bn2): BatchNorm2d(128, eps=1e-05, momentum=0.1, affine=True, track_running_stats=True)\n",
      "    )\n",
      "  )\n",
      "  (layer3): Sequential(\n",
      "    (0): BasicBlock(\n",
      "      (conv1): Conv2d(128, 256, kernel_size=(3, 3), stride=(2, 2), padding=(1, 1), bias=False)\n",
      "      (bn1): BatchNorm2d(256, eps=1e-05, momentum=0.1, affine=True, track_running_stats=True)\n",
      "      (relu): ReLU(inplace=True)\n",
      "      (conv2): Conv2d(256, 256, kernel_size=(3, 3), stride=(1, 1), padding=(1, 1), bias=False)\n",
      "      (bn2): BatchNorm2d(256, eps=1e-05, momentum=0.1, affine=True, track_running_stats=True)\n",
      "      (downsample): Sequential(\n",
      "        (0): Conv2d(128, 256, kernel_size=(1, 1), stride=(2, 2), bias=False)\n",
      "        (1): BatchNorm2d(256, eps=1e-05, momentum=0.1, affine=True, track_running_stats=True)\n",
      "      )\n",
      "    )\n",
      "    (1): BasicBlock(\n",
      "      (conv1): Conv2d(256, 256, kernel_size=(3, 3), stride=(1, 1), padding=(1, 1), bias=False)\n",
      "      (bn1): BatchNorm2d(256, eps=1e-05, momentum=0.1, affine=True, track_running_stats=True)\n",
      "      (relu): ReLU(inplace=True)\n",
      "      (conv2): Conv2d(256, 256, kernel_size=(3, 3), stride=(1, 1), padding=(1, 1), bias=False)\n",
      "      (bn2): BatchNorm2d(256, eps=1e-05, momentum=0.1, affine=True, track_running_stats=True)\n",
      "    )\n",
      "  )\n",
      "  (layer4): Sequential(\n",
      "    (0): BasicBlock(\n",
      "      (conv1): Conv2d(256, 512, kernel_size=(3, 3), stride=(2, 2), padding=(1, 1), bias=False)\n",
      "      (bn1): BatchNorm2d(512, eps=1e-05, momentum=0.1, affine=True, track_running_stats=True)\n",
      "      (relu): ReLU(inplace=True)\n",
      "      (conv2): Conv2d(512, 512, kernel_size=(3, 3), stride=(1, 1), padding=(1, 1), bias=False)\n",
      "      (bn2): BatchNorm2d(512, eps=1e-05, momentum=0.1, affine=True, track_running_stats=True)\n",
      "      (downsample): Sequential(\n",
      "        (0): Conv2d(256, 512, kernel_size=(1, 1), stride=(2, 2), bias=False)\n",
      "        (1): BatchNorm2d(512, eps=1e-05, momentum=0.1, affine=True, track_running_stats=True)\n",
      "      )\n",
      "    )\n",
      "    (1): BasicBlock(\n",
      "      (conv1): Conv2d(512, 512, kernel_size=(3, 3), stride=(1, 1), padding=(1, 1), bias=False)\n",
      "      (bn1): BatchNorm2d(512, eps=1e-05, momentum=0.1, affine=True, track_running_stats=True)\n",
      "      (relu): ReLU(inplace=True)\n",
      "      (conv2): Conv2d(512, 512, kernel_size=(3, 3), stride=(1, 1), padding=(1, 1), bias=False)\n",
      "      (bn2): BatchNorm2d(512, eps=1e-05, momentum=0.1, affine=True, track_running_stats=True)\n",
      "    )\n",
      "  )\n",
      "  (avgpool): AdaptiveAvgPool2d(output_size=(1, 1))\n",
      "  (fc): Linear(in_features=512, out_features=1000, bias=True)\n",
      ")\n"
     ]
    }
   ],
   "source": [
    "import torchvision.models as models\n",
    "\n",
    "resnet = models.resnet18(pretrained=True)\n",
    "resnet.to(device)\n",
    "print(resnet)"
   ]
  },
  {
   "cell_type": "code",
   "execution_count": 50,
   "metadata": {
    "id": "OlesbgEYVB8C"
   },
   "outputs": [],
   "source": [
    "# change the number of classes \n",
    "resnet.fc.out_features = 10\n",
    "\n",
    "# freeze \n",
    "# first freeze all \n",
    "for param in resnet.parameters():\n",
    "    param.requires_grad = False\n",
    "    \n",
    "# then unfreeze fc and last layer \n",
    "for param in resnet.layer4.parameters():\n",
    "    param.requires_grad = True\n",
    "\n",
    "resnet.fc.weight.requires_grad = True\n",
    "resnet.fc.bias.requires_grad = True"
   ]
  },
  {
   "cell_type": "code",
   "execution_count": 51,
   "metadata": {
    "id": "XRkYNm-OVB8N"
   },
   "outputs": [],
   "source": [
    "# validation function\n",
    "def validate(model, test_dataloader):\n",
    "    model.eval()\n",
    "    val_running_loss = 0.0\n",
    "    val_running_correct = 0\n",
    "    for int, data in enumerate(test_dataloader):\n",
    "        data, target = data[0].to(device), data[1].to(device)\n",
    "        output = model(data)\n",
    "        loss = criterion(output, target)\n",
    "        \n",
    "        val_running_loss += loss.item()\n",
    "        _, preds = torch.max(output.data, 1)\n",
    "        val_running_correct += (preds == target).sum().item()\n",
    "    \n",
    "    val_loss = val_running_loss/len(test_dataloader.dataset)\n",
    "    val_accuracy = 100. * val_running_correct/len(test_dataloader.dataset)\n",
    "    \n",
    "    return val_loss, val_accuracy"
   ]
  },
  {
   "cell_type": "code",
   "execution_count": 52,
   "metadata": {
    "id": "FoBhDGD9VB8a"
   },
   "outputs": [],
   "source": [
    "# training function\n",
    "def fit(model, train_dataloader):\n",
    "    model.train()\n",
    "    train_running_loss = 0.0\n",
    "    train_running_correct = 0\n",
    "    for i, data in enumerate(train_dataloader):\n",
    "        data, target = data[0].to(device), data[1].to(device)\n",
    "        optimizer.zero_grad()\n",
    "        output = model(data)\n",
    "        loss = criterion(output, target)\n",
    "        train_running_loss += loss.item()\n",
    "        _, preds = torch.max(output.data, 1)\n",
    "        train_running_correct += (preds == target).sum().item()\n",
    "        loss.backward()\n",
    "        optimizer.step()\n",
    "    train_loss = train_running_loss/len(train_dataloader.dataset)\n",
    "    train_accuracy = 100. * train_running_correct/len(train_dataloader.dataset)\n",
    "    print(f'Train Loss: {train_loss:.4f}, Train Acc: {train_accuracy:.2f}')\n",
    "    \n",
    "    return train_loss, train_accuracy"
   ]
  },
  {
   "cell_type": "code",
   "execution_count": 28,
   "metadata": {
    "colab": {
     "base_uri": "https://localhost:8080/",
     "height": 102
    },
    "id": "8XaOgfkaVB8l",
    "outputId": "a3c97d5e-e7ad-44bf-98f0-446aee9a7a25"
   },
   "outputs": [
    {
     "name": "stdout",
     "output_type": "stream",
     "text": [
      "Requirement already satisfied: torch_optimizer in /usr/local/lib/python3.6/dist-packages (0.0.1a15)\n",
      "Requirement already satisfied: torch>=1.1.0 in /usr/local/lib/python3.6/dist-packages (from torch_optimizer) (1.6.0+cu101)\n",
      "Requirement already satisfied: pytorch-ranger>=0.1.1 in /usr/local/lib/python3.6/dist-packages (from torch_optimizer) (0.1.1)\n",
      "Requirement already satisfied: numpy in /usr/local/lib/python3.6/dist-packages (from torch>=1.1.0->torch_optimizer) (1.18.5)\n",
      "Requirement already satisfied: future in /usr/local/lib/python3.6/dist-packages (from torch>=1.1.0->torch_optimizer) (0.16.0)\n"
     ]
    }
   ],
   "source": [
    "!pip install torch_optimizer"
   ]
  },
  {
   "cell_type": "code",
   "execution_count": 53,
   "metadata": {
    "id": "QSb3qhzmVB82"
   },
   "outputs": [],
   "source": [
    "import torch_optimizer as optim\n",
    "\n",
    "# YOGI OPTIMIZER \n",
    "optimizer = optim.Yogi(resnet.parameters(), lr=0.001)"
   ]
  },
  {
   "cell_type": "code",
   "execution_count": 43,
   "metadata": {
    "id": "QW6f-NC7VB9L"
   },
   "outputs": [],
   "source": [
    "## Learning Rate Finder to find best learning rate for training Resnet"
   ]
  },
  {
   "cell_type": "markdown",
   "metadata": {
    "id": "USxPoLZ4VB9X"
   },
   "source": [
    "I tried out the learning rate finder concept introduced in \"Cyclical Learning Rates for Training Neural Networks\" by Smith, 2015 retrieved from: https://arxiv.org/abs/1506.01186"
   ]
  },
  {
   "cell_type": "code",
   "execution_count": 44,
   "metadata": {
    "id": "HOpR98YlWaVO"
   },
   "outputs": [],
   "source": [
    "!pip install torch-lr-finder --quiet "
   ]
  },
  {
   "cell_type": "code",
   "execution_count": 54,
   "metadata": {
    "colab": {
     "base_uri": "https://localhost:8080/",
     "height": 386,
     "referenced_widgets": [
      "dc5e36619f224a79adbf10c36dd41f5b",
      "1fc657986aee46ad88ebdc3172e28535",
      "fcc631650ef649c187664b009b67b961",
      "d91e6390b42a4a398efd6f4b9f485a8c",
      "0905dce8b7ac40a1abb135f9bbd37069",
      "6f05cb4322464d7098f7bc60c2bacba5",
      "b081e3e67881461983835952b12d62c2",
      "a1455453d51a4c40b8ba204f66d5c6e0"
     ]
    },
    "id": "P7mb9T5KVB9a",
    "outputId": "c4175112-d25a-46b2-f2c5-8482d4368e32"
   },
   "outputs": [
    {
     "data": {
      "application/vnd.jupyter.widget-view+json": {
       "model_id": "dc5e36619f224a79adbf10c36dd41f5b",
       "version_major": 2,
       "version_minor": 0
      },
      "text/plain": [
       "HBox(children=(FloatProgress(value=0.0), HTML(value='')))"
      ]
     },
     "metadata": {
      "tags": []
     },
     "output_type": "display_data"
    },
    {
     "name": "stdout",
     "output_type": "stream",
     "text": [
      "Stopping early, the loss has diverged\n",
      "Learning rate search finished. See the graph with {finder_name}.plot()\n",
      "LR suggestion: steepest gradient\n",
      "Suggested LR: 4.04E-03\n"
     ]
    },
    {
     "data": {
      "image/png": "[encoded data removed]",
      "text/plain": [
       "<Figure size 432x288 with 1 Axes>"
      ]
     },
     "metadata": {
      "needs_background": "light",
      "tags": []
     },
     "output_type": "display_data"
    }
   ],
   "source": [
    "from torch_lr_finder import LRFinder\n",
    "\n",
    "# learning rate finder \n",
    "modelname = \"resnet\"\n",
    "criterion = nn.CrossEntropyLoss()\n",
    "optimizer = optim.Yogi(resnet.parameters(), lr=0.001)\n",
    "lr_finder = LRFinder(resnet, optimizer, criterion, device=\"cuda\")\n",
    "lr_finder.range_test(train_loader, end_lr=100, num_iter=100)\n",
    "lr_finder.plot() # to inspect the loss-learning rate graph\n",
    "lr_finder.reset() # to reset the model and optimizer to their initial state"
   ]
  },
  {
   "cell_type": "markdown",
   "metadata": {
    "id": "kpZrJorwVB9k"
   },
   "source": [
    "**Comment:**\n",
    "- The results are a little unstable and we did not conduct any further analysis!\n",
    "- We decided to use the Yogi Optimizer with a slightly higher learning rate as the learning rate finder suggested, also since this decreased training time! We used Resnet 18 training for 50 epochs!"
   ]
  },
  {
   "cell_type": "code",
   "execution_count": 55,
   "metadata": {
    "id": "dHwoBsi1VB9s"
   },
   "outputs": [],
   "source": [
    "import torch_optimizer as optim\n",
    "\n",
    "# YOGI OPTIMIZER \n",
    "# Parameters \n",
    "learning_rate = 0.01\n",
    "optimizer = optim.Yogi(filter(lambda p: p.requires_grad, resnet.parameters()), lr=learning_rate)\n",
    "criterion = nn.CrossEntropyLoss()"
   ]
  },
  {
   "cell_type": "code",
   "execution_count": 56,
   "metadata": {
    "colab": {
     "base_uri": "https://localhost:8080/",
     "height": 374
    },
    "id": "MdVppYwzVB91",
    "outputId": "59735d27-b483-4ef6-8af2-e859f90b5cd6"
   },
   "outputs": [
    {
     "name": "stdout",
     "output_type": "stream",
     "text": [
      "Train Loss: 0.1884, Train Acc: 54.89\n",
      "Train Loss: 0.0956, Train Acc: 66.92\n",
      "Train Loss: 0.0707, Train Acc: 70.20\n",
      "Train Loss: 0.0529, Train Acc: 72.71\n",
      "Train Loss: 0.0395, Train Acc: 74.57\n",
      "Train Loss: 0.0291, Train Acc: 76.01\n",
      "Train Loss: 0.0222, Train Acc: 76.94\n",
      "Train Loss: 0.0176, Train Acc: 77.65\n",
      "Train Loss: 0.0138, Train Acc: 78.17\n",
      "Train Loss: 0.0104, Train Acc: 78.59\n",
      "Train Loss: 0.0102, Train Acc: 78.58\n",
      "Train Loss: 0.0080, Train Acc: 78.89\n",
      "Train Loss: 0.0064, Train Acc: 79.17\n",
      "Train Loss: 0.0054, Train Acc: 79.26\n",
      "Train Loss: 0.0049, Train Acc: 79.34\n",
      "Train Loss: 0.0050, Train Acc: 79.36\n",
      "Train Loss: 0.0041, Train Acc: 79.49\n",
      "Train Loss: 0.0039, Train Acc: 79.50\n",
      "Train Loss: 0.0028, Train Acc: 79.65\n",
      "Train Loss: 0.0031, Train Acc: 79.57\n",
      "137.08487555583318 minutes\n"
     ]
    }
   ],
   "source": [
    "# load model trained to epoch 50 \n",
    "#resnet.load_state_dict(torch.load('{}_yogi.pth'.format(modelname)))\n",
    "\n",
    "train_loss , train_accuracy = [], []\n",
    "val_loss , val_accuracy = [], []\n",
    "start = time.time()\n",
    "for epoch in range(20):\n",
    "    train_epoch_loss, train_epoch_accuracy = fit(resnet, train_loader)\n",
    "    val_epoch_loss, val_epoch_accuracy = validate(resnet, test_loader)\n",
    "    train_loss.append(train_epoch_loss)\n",
    "    train_accuracy.append(train_epoch_accuracy)\n",
    "    val_loss.append(val_epoch_loss)\n",
    "    val_accuracy.append(val_epoch_accuracy)\n",
    "end = time.time()\n",
    "print((end-start)/60, 'minutes')"
   ]
  },
  {
   "cell_type": "code",
   "execution_count": 58,
   "metadata": {
    "colab": {
     "base_uri": "https://localhost:8080/",
     "height": 68
    },
    "id": "Pf-LLsgLVB-D",
    "outputId": "73aa5aae-671f-48dc-d0b0-8dd55e23d6cc"
   },
   "outputs": [
    {
     "name": "stdout",
     "output_type": "stream",
     "text": [
      "/content\n",
      "['.config', 'data', 'resnet_yogi_norm.pth', 'sample_data']\n"
     ]
    },
    {
     "data": {
      "text/plain": [
       "<All keys matched successfully>"
      ]
     },
     "execution_count": 58,
     "metadata": {
      "tags": []
     },
     "output_type": "execute_result"
    }
   ],
   "source": [
    "import os\n",
    "\n",
    "torch.save(resnet.state_dict(), '{}_yogi_norm.pth'.format(modelname))\n",
    "print(os.getcwd())\n",
    "print(os.listdir())\n",
    "resnet.load_state_dict(torch.load('{}_yogi_norm.pth'.format(modelname)))"
   ]
  },
  {
   "cell_type": "code",
   "execution_count": null,
   "metadata": {
    "id": "fEqxzc0aVB-N"
   },
   "outputs": [],
   "source": [
    "resnet.load_state_dict(torch.load('resnet_yogi_norm.pth'))"
   ]
  },
  {
   "cell_type": "code",
   "execution_count": 59,
   "metadata": {
    "colab": {
     "base_uri": "https://localhost:8080/",
     "height": 428
    },
    "id": "9_4bsTB1VB-X",
    "outputId": "999df2ce-8cca-4c3a-c58b-f603683c405b"
   },
   "outputs": [
    {
     "data": {
      "image/png": "[encoded data removed]",
      "text/plain": [
       "<Figure size 720x504 with 1 Axes>"
      ]
     },
     "metadata": {
      "needs_background": "light",
      "tags": []
     },
     "output_type": "display_data"
    }
   ],
   "source": [
    "plt.figure(figsize=(10, 7))\n",
    "plt.plot(train_accuracy, color='green', label='train accuracy')\n",
    "plt.plot(val_accuracy, color='blue', label='validataion accuracy')\n",
    "plt.legend()\n",
    "plt.savefig('accuracy_{}_norm.png'.format(modelname))\n",
    "plt.show()"
   ]
  },
  {
   "cell_type": "code",
   "execution_count": 60,
   "metadata": {
    "colab": {
     "base_uri": "https://localhost:8080/",
     "height": 428
    },
    "id": "E8LzvrE6VB-f",
    "outputId": "31d5e7df-01f7-40b0-f3c3-1f22235933a5"
   },
   "outputs": [
    {
     "data": {
      "image/png": "[encoded data removed]",
      "text/plain": [
       "<Figure size 720x504 with 1 Axes>"
      ]
     },
     "metadata": {
      "needs_background": "light",
      "tags": []
     },
     "output_type": "display_data"
    }
   ],
   "source": [
    "plt.figure(figsize=(10, 7))\n",
    "plt.plot(train_loss, color='orange', label='train loss')\n",
    "plt.plot(val_loss, color='red', label='validataion loss')\n",
    "plt.legend()\n",
    "plt.savefig('loss_{}_norm.png'.format(modelname))\n",
    "plt.show()"
   ]
  },
  {
   "cell_type": "code",
   "execution_count": 66,
   "metadata": {
    "colab": {
     "base_uri": "https://localhost:8080/",
     "height": 68
    },
    "id": "4aOR3JO4VB-r",
    "outputId": "169938c5-0a06-4430-bf70-bb824dbe2f7b"
   },
   "outputs": [
    {
     "name": "stdout",
     "output_type": "stream",
     "text": [
      "Accuracy of the network on the 40000 train images: 99.86 %\n",
      "Accuracy of the network on the 10000 validation images: 13.69 %\n",
      "Accuracy of the network on the 10000 test images: 90.27 %\n"
     ]
    }
   ],
   "source": [
    "resnet.eval()\n",
    "compute_accuracy(resnet)"
   ]
  },
  {
   "cell_type": "code",
   "execution_count": 67,
   "metadata": {
    "colab": {
     "base_uri": "https://localhost:8080/",
     "height": 204
    },
    "id": "LoWLe3QcVB-2",
    "outputId": "52173b99-86fa-4dac-85b6-1cdc055e50b6"
   },
   "outputs": [
    {
     "name": "stdout",
     "output_type": "stream",
     "text": [
      "Class      Accuracy (%)\n",
      "plane        92.90   \n",
      "car          95.80   \n",
      "bird         87.40   \n",
      "cat          75.40   \n",
      "deer         88.30   \n",
      "dog          89.40   \n",
      "frog         93.30   \n",
      "horse        93.10   \n",
      "ship         94.50   \n",
      "truck        92.60   \n"
     ]
    }
   ],
   "source": [
    "confusion_matrix_resnet = accuracy_per_class(resnet)"
   ]
  },
  {
   "cell_type": "markdown",
   "metadata": {
    "id": "B0VjcGDnVB_-"
   },
   "source": [
    "**Comment:**\n",
    "> - "
   ]
  },
  {
   "cell_type": "code",
   "execution_count": null,
   "metadata": {
    "id": "uBqSgDEzVCAO"
   },
   "outputs": [],
   "source": []
  },
  {
   "cell_type": "markdown",
   "metadata": {
    "id": "d3EnqIGTVCAa"
   },
   "source": [
    "--------------------------------------------------------------------"
   ]
  },
  {
   "cell_type": "markdown",
   "metadata": {
    "id": "S3RMyLz1kk1L"
   },
   "source": [
    "### Vision Transformer (ViT)\n",
    "\n",
    "> - Paper: https://openreview.net/pdf?id=YicbFdNTTy\n",
    "> - Code: https://github.com/lucidrains/vit-pytorch/\n",
    "> - Video: https://www.youtube.com/watch?v=TrdevFK_am4"
   ]
  },
  {
   "attachments": {
    "ViT.png": {
     "image/png": "[encoded data removed]"
    }
   },
   "cell_type": "markdown",
   "metadata": {},
   "source": [
    "![ViT.png](attachment:ViT.png)"
   ]
  },
  {
   "cell_type": "code",
   "execution_count": null,
   "metadata": {
    "colab": {
     "base_uri": "https://localhost:8080/",
     "height": 170
    },
    "id": "k_ao_4bjOcJM",
    "outputId": "8787ee05-13cf-4cc2-bc50-1a556babe9fb"
   },
   "outputs": [
    {
     "name": "stdout",
     "output_type": "stream",
     "text": [
      "Collecting vit-pytorch\n",
      "  Downloading https://files.pythonhosted.org/packages/9d/95/201eaf617dee0e8ea0ea7a90383ada84f2361887a9a15c22219463b0f6cd/vit_pytorch-0.2.4-py3-none-any.whl\n",
      "Collecting einops>=0.3\n",
      "  Downloading https://files.pythonhosted.org/packages/5d/a0/9935e030634bf60ecd572c775f64ace82ceddf2f504a5fd3902438f07090/einops-0.3.0-py2.py3-none-any.whl\n",
      "Requirement already satisfied: torch>=1.6 in /usr/local/lib/python3.6/dist-packages (from vit-pytorch) (1.6.0+cu101)\n",
      "Requirement already satisfied: numpy in /usr/local/lib/python3.6/dist-packages (from torch>=1.6->vit-pytorch) (1.18.5)\n",
      "Requirement already satisfied: future in /usr/local/lib/python3.6/dist-packages (from torch>=1.6->vit-pytorch) (0.16.0)\n",
      "Installing collected packages: einops, vit-pytorch\n",
      "Successfully installed einops-0.3.0 vit-pytorch-0.2.4\n"
     ]
    }
   ],
   "source": [
    "!pip install vit-pytorch"
   ]
  },
  {
   "cell_type": "code",
   "execution_count": null,
   "metadata": {
    "colab": {
     "base_uri": "https://localhost:8080/",
     "height": 136
    },
    "id": "iXXx3TK1OnBR",
    "outputId": "4c19cfd3-2e1e-43c5-82d0-3cb9db8709f9"
   },
   "outputs": [
    {
     "name": "stdout",
     "output_type": "stream",
     "text": [
      "Collecting linformer\n",
      "  Downloading https://files.pythonhosted.org/packages/c4/20/e1db1c33bb908d0d377e9146636ad97036c9183e012d87d9e1ce9d10e131/linformer-0.2.0-py3-none-any.whl\n",
      "Requirement already satisfied: torch in /usr/local/lib/python3.6/dist-packages (from linformer) (1.6.0+cu101)\n",
      "Requirement already satisfied: numpy in /usr/local/lib/python3.6/dist-packages (from torch->linformer) (1.18.5)\n",
      "Requirement already satisfied: future in /usr/local/lib/python3.6/dist-packages (from torch->linformer) (0.16.0)\n",
      "Installing collected packages: linformer\n",
      "Successfully installed linformer-0.2.0\n"
     ]
    }
   ],
   "source": [
    "!pip install linformer"
   ]
  },
  {
   "cell_type": "code",
   "execution_count": null,
   "metadata": {
    "id": "EhjRw4chkk1O"
   },
   "outputs": [],
   "source": [
    "from linformer import Linformer\n",
    "from torch.optim.lr_scheduler import StepLR\n",
    "\n",
    "from vit_pytorch.efficient import ViT"
   ]
  },
  {
   "cell_type": "code",
   "execution_count": null,
   "metadata": {
    "id": "PSmUSN23kk1Y"
   },
   "outputs": [],
   "source": [
    "# Training settings\n",
    "batch_size = 64\n",
    "epochs = 20\n",
    "lr = 3e-5\n",
    "gamma = 0.7\n",
    "seed = 42"
   ]
  },
  {
   "cell_type": "code",
   "execution_count": null,
   "metadata": {
    "id": "Kyk88zu4kk1j"
   },
   "outputs": [],
   "source": [
    "import torch\n",
    "from vit_pytorch import ViT\n",
    "\n",
    "v = ViT(\n",
    "    image_size = 256,\n",
    "    patch_size = 32,\n",
    "    num_classes = 10,\n",
    "    dim = 1024,\n",
    "    depth = 6,\n",
    "    heads = 8,\n",
    "    mlp_dim = 2048,\n",
    "    dropout = 0.1,\n",
    "    emb_dropout = 0.1\n",
    ")"
   ]
  },
  {
   "cell_type": "code",
   "execution_count": null,
   "metadata": {
    "id": "QptutCzFRLhZ"
   },
   "outputs": [],
   "source": [
    "img = torch.randn(1, 3, 256, 256)\n",
    "mask = torch.ones(1, 8, 8).bool() # optional mask, designating which patch to attend to\n",
    "\n",
    "preds = v(img, mask = mask) # (1, 1000)"
   ]
  },
  {
   "cell_type": "code",
   "execution_count": null,
   "metadata": {
    "colab": {
     "base_uri": "https://localhost:8080/",
     "height": 51
    },
    "id": "4q2FgYjCRPCh",
    "outputId": "fad34ea6-53b2-4087-ef17-8bdcdceea96b"
   },
   "outputs": [
    {
     "name": "stdout",
     "output_type": "stream",
     "text": [
      "tensor([[ 0.1648, -0.0970,  0.2126, -0.2272,  0.5997,  0.0704, -0.0197,  0.0541,\n",
      "          0.2230, -0.3194]], grad_fn=<AddmmBackward>)\n"
     ]
    }
   ],
   "source": [
    "print(preds)"
   ]
  },
  {
   "cell_type": "markdown",
   "metadata": {
    "id": "BEZnQ7SIkk1u"
   },
   "source": [
    "### Load Data"
   ]
  },
  {
   "cell_type": "code",
   "execution_count": null,
   "metadata": {
    "id": "kyAPMk0mkk1z"
   },
   "outputs": [],
   "source": [
    "train_transforms = transforms.Compose(\n",
    "    [\n",
    "        transforms.Resize((224, 224)),\n",
    "        transforms.RandomResizedCrop(224),\n",
    "        transforms.RandomHorizontalFlip(),\n",
    "        transforms.ToTensor(),\n",
    "    ]\n",
    ")\n",
    "\n",
    "val_transforms = transforms.Compose(\n",
    "    [\n",
    "        transforms.Resize((224, 224)),\n",
    "        transforms.RandomResizedCrop(224),\n",
    "        transforms.RandomHorizontalFlip(),\n",
    "        transforms.ToTensor(),\n",
    "    ]\n",
    ")\n",
    "\n",
    "\n",
    "test_transforms = transforms.Compose(\n",
    "    [\n",
    "        transforms.Resize((224, 224)),\n",
    "        transforms.RandomResizedCrop(224),\n",
    "        transforms.RandomHorizontalFlip(),\n",
    "        transforms.ToTensor(),\n",
    "    ]\n",
    ")"
   ]
  },
  {
   "cell_type": "code",
   "execution_count": null,
   "metadata": {
    "colab": {
     "base_uri": "https://localhost:8080/",
     "height": 51
    },
    "id": "6e36XBYXPt34",
    "outputId": "3cd52d09-1ff6-4e55-f3f0-ff2de4aa3362"
   },
   "outputs": [
    {
     "name": "stdout",
     "output_type": "stream",
     "text": [
      "Files already downloaded and verified\n",
      "Files already downloaded and verified\n"
     ]
    }
   ],
   "source": [
    "from torch.utils.data.sampler import SubsetRandomSampler\n",
    "\n",
    "n_training_samples = 40000 # Max: 50 000 - n_val_samples\n",
    "n_val_samples = 10000\n",
    "\n",
    "\n",
    "train_sampler = SubsetRandomSampler(np.arange(n_training_samples, dtype=np.int64))\n",
    "val_sampler = SubsetRandomSampler(np.arange(n_training_samples, n_training_samples + n_val_samples, dtype=np.int64))\n",
    "\n",
    "train_set = torchvision.datasets.CIFAR10(root='./data', train=True,\n",
    "                                        download=True, transform=train_transforms)\n",
    "\n",
    "train_loader = torch.utils.data.DataLoader(train_set, batch_size=test_batch_size, sampler=train_sampler,\n",
    "                                          num_workers=num_workers)\n",
    "\n",
    "valid_loader = torch.utils.data.DataLoader(train_set, batch_size=128, sampler=val_sampler,\n",
    "                                          num_workers=num_workers)\n",
    "\n",
    "test_set = torchvision.datasets.CIFAR10(root='./data', train=False,\n",
    "                                       download=True, transform=test_transforms)\n",
    "test_loader = torch.utils.data.DataLoader(test_set, batch_size=test_batch_size,\n",
    "                                         num_workers=num_workers)\n",
    "\n",
    "classes = ('plane', 'car', 'bird', 'cat', 'deer', 'dog', 'frog', 'horse', 'ship', 'truck')"
   ]
  },
  {
   "cell_type": "code",
   "execution_count": null,
   "metadata": {
    "id": "xj4mf8bGQQur"
   },
   "outputs": [],
   "source": []
  },
  {
   "cell_type": "markdown",
   "metadata": {
    "id": "I7-3hcHFkk17"
   },
   "source": [
    "### Model Setup"
   ]
  },
  {
   "cell_type": "code",
   "execution_count": null,
   "metadata": {
    "id": "NGNz3wQLkk19"
   },
   "outputs": [],
   "source": [
    "efficient_transformer = Linformer(\n",
    "    dim=128,\n",
    "    seq_len=49+1,  # 7x7 patches + 1 cls-token\n",
    "    depth=12,\n",
    "    heads=8,\n",
    "    k=64\n",
    ")"
   ]
  },
  {
   "cell_type": "code",
   "execution_count": null,
   "metadata": {
    "id": "yuDzCEmkkk2G"
   },
   "outputs": [],
   "source": [
    "from vit_pytorch.efficient import ViT\n",
    "\n",
    "model = ViT(\n",
    "    dim=128,\n",
    "    image_size=224,\n",
    "    patch_size=32,\n",
    "    num_classes=10,\n",
    "    transformer = efficient_transformer,\n",
    "    channels = 3).to(device)"
   ]
  },
  {
   "cell_type": "markdown",
   "metadata": {
    "id": "DcTyWqIekk2O"
   },
   "source": [
    "### Training"
   ]
  },
  {
   "cell_type": "code",
   "execution_count": null,
   "metadata": {
    "id": "OAu61RISSNw6"
   },
   "outputs": [],
   "source": [
    "# Training settings\n",
    "batch_size = 64\n",
    "epochs = 20\n",
    "lr = 3e-5\n",
    "gamma = 0.7\n",
    "seed = 42"
   ]
  },
  {
   "cell_type": "code",
   "execution_count": null,
   "metadata": {
    "id": "B6nEvGK8SRN4"
   },
   "outputs": [],
   "source": [
    "import random\n",
    "def seed_everything(seed):\n",
    "    random.seed(seed)\n",
    "    os.environ['PYTHONHASHSEED'] = str(seed)\n",
    "    np.random.seed(seed)\n",
    "    torch.manual_seed(seed)\n",
    "    torch.cuda.manual_seed(seed)\n",
    "    torch.cuda.manual_seed_all(seed)\n",
    "    torch.backends.cudnn.deterministic = True\n",
    "\n",
    "seed_everything(seed)"
   ]
  },
  {
   "cell_type": "code",
   "execution_count": null,
   "metadata": {
    "id": "fFnbbWfUkk2Q"
   },
   "outputs": [],
   "source": [
    "# loss function\n",
    "criterion = nn.CrossEntropyLoss()\n",
    "# optimizer\n",
    "optimizer = optim.Adam(model.parameters(), lr=lr)\n",
    "# scheduler\n",
    "scheduler = StepLR(optimizer, step_size=1, gamma=gamma)"
   ]
  },
  {
   "cell_type": "code",
   "execution_count": null,
   "metadata": {
    "id": "YkhdHxaWkk2d"
   },
   "outputs": [],
   "source": [
    "for epoch in range(epochs):\n",
    "    epoch_loss = 0\n",
    "    epoch_accuracy = 0\n",
    "\n",
    "    for i, (data, label) in enumerate(train_loader):\n",
    "        data = data.to(device)\n",
    "        label = label.to(device)\n",
    "\n",
    "        output = model(data)\n",
    "        loss = criterion(output, label)\n",
    "\n",
    "        optimizer.zero_grad()\n",
    "        loss.backward()\n",
    "        optimizer.step()\n",
    "\n",
    "        acc = (output.argmax(dim=1) == label).float().mean()\n",
    "        epoch_accuracy += acc / len(train_loader)\n",
    "        epoch_loss += loss / len(train_loader)\n",
    "\n",
    "    with torch.no_grad():\n",
    "        epoch_val_accuracy = 0\n",
    "        epoch_val_loss = 0\n",
    "        for j, (data, label) in enumerate(val_loader):\n",
    "            data = data.to(device)\n",
    "            label = label.to(device)\n",
    "\n",
    "            val_output = model(data)\n",
    "            val_loss = criterion(val_output, label)\n",
    "\n",
    "            acc = (val_output.argmax(dim=1) == label).float().mean()\n",
    "            epoch_val_accuracy += acc / len(valid_loader)\n",
    "            epoch_val_loss += val_loss / len(valid_loader)\n",
    "\n",
    "    print(\n",
    "        f\"Epoch : {epoch+1} - loss : {epoch_loss:.4f} - acc: {epoch_accuracy:.4f} - val_loss : {epoch_val_loss:.4f} - val_acc: {epoch_val_accuracy:.4f}\\n\"\n",
    "    )"
   ]
  },
  {
   "cell_type": "code",
   "execution_count": null,
   "metadata": {
    "colab": {
     "base_uri": "https://localhost:8080/",
     "height": 51
    },
    "id": "8_AiTp3tcjYs",
    "outputId": "32b25db8-fa37-431d-ed07-e7143a13266d"
   },
   "outputs": [
    {
     "name": "stdout",
     "output_type": "stream",
     "text": [
      "/content\n",
      "['.config', 'ViT_model.pt', 'vgg16_model.pt', 'accuracy.png', 'loss.png', 'data', 'best_model.pth', 'sample_data']\n"
     ]
    }
   ],
   "source": [
    "import os\n",
    "torch.save(model.state_dict(), 'ViT_model.pt')\n",
    "print(os.getcwd())\n",
    "print(os.listdir())"
   ]
  },
  {
   "cell_type": "code",
   "execution_count": null,
   "metadata": {
    "colab": {
     "base_uri": "https://localhost:8080/",
     "height": 34
    },
    "id": "clQHmTmmczWU",
    "outputId": "9dce0a93-d975-45a2-cafd-c9254d8b2c11"
   },
   "outputs": [
    {
     "data": {
      "text/plain": [
       "<All keys matched successfully>"
      ]
     },
     "execution_count": 83,
     "metadata": {
      "tags": []
     },
     "output_type": "execute_result"
    }
   ],
   "source": [
    "model.load_state_dict(torch.load('ViT_model.pt'))"
   ]
  },
  {
   "cell_type": "code",
   "execution_count": null,
   "metadata": {
    "colab": {
     "base_uri": "https://localhost:8080/",
     "height": 85
    },
    "id": "0SbxdG5fIA7b",
    "outputId": "4b9cb573-6c63-428c-db36-37e65594bc1c"
   },
   "outputs": [
    {
     "name": "stdout",
     "output_type": "stream",
     "text": [
      "Computing accuracy...\n",
      "Accuracy of the network on the 40000 train images: 56.00 %\n",
      "Accuracy of the network on the 10000 validation images: 54.23 %\n",
      "Accuracy of the network on the 10000 test images: 54.67 %\n"
     ]
    }
   ],
   "source": [
    "print(\"Computing accuracy...\")\n",
    "compute_accuracy(model)"
   ]
  },
  {
   "cell_type": "markdown",
   "metadata": {
    "id": "MTaj1TrIVCDc"
   },
   "source": [
    "**Comment:**\n",
    "- This model architecture is considered as state-of-the-art for ImageNet before it is still under review for ICLR2021. After we did training above on CIFAR-10, we can observe clearly that it is not giving really good results."
   ]
  },
  {
   "cell_type": "markdown",
   "metadata": {
    "id": "Hi_t8iBpVCDe"
   },
   "source": [
    "-------------------------------------------------------------"
   ]
  }
 ],
 "metadata": {
  "accelerator": "GPU",
  "colab": {
   "collapsed_sections": [
    "q0D9KyXlkkyl",
    "S3RMyLz1kk1L",
    "BEZnQ7SIkk1u",
    "I7-3hcHFkk17",
    "DcTyWqIekk2O",
    "Qnmp6zk6kk2l"
   ],
   "name": "Imad (1).ipynb",
   "provenance": [],
   "toc_visible": true
  },
  "kernelspec": {
   "display_name": "research",
   "language": "python",
   "name": "research"
  },
  "language_info": {
   "codemirror_mode": {
    "name": "ipython",
    "version": 3
   },
   "file_extension": ".py",
   "mimetype": "text/x-python",
   "name": "python",
   "nbconvert_exporter": "python",
   "pygments_lexer": "ipython3",
   "version": "3.8.5"
  },
  "widgets": {
   "application/vnd.jupyter.widget-state+json": {
    "0905dce8b7ac40a1abb135f9bbd37069": {
     "model_module": "@jupyter-widgets/controls",
     "model_name": "ProgressStyleModel",
     "state": {
      "_model_module": "@jupyter-widgets/controls",
      "_model_module_version": "1.5.0",
      "_model_name": "ProgressStyleModel",
      "_view_count": null,
      "_view_module": "@jupyter-widgets/base",
      "_view_module_version": "1.2.0",
      "_view_name": "StyleView",
      "bar_color": null,
      "description_width": "initial"
     }
    },
    "1bfea72d8d764e17adf38400b9fbc2ce": {
     "model_module": "@jupyter-widgets/controls",
     "model_name": "HTMLModel",
     "state": {
      "_dom_classes": [],
      "_model_module": "@jupyter-widgets/controls",
      "_model_module_version": "1.5.0",
      "_model_name": "HTMLModel",
      "_view_count": null,
      "_view_module": "@jupyter-widgets/controls",
      "_view_module_version": "1.5.0",
      "_view_name": "HTMLView",
      "description": "",
      "description_tooltip": null,
      "layout": "IPY_MODEL_6bc09dc8cc0e4ac086ff5d7169166456",
      "placeholder": "​",
      "style": "IPY_MODEL_d69b1a42edad4380ad2f7cf7f1a53811",
      "value": " 170500096/? [00:20&lt;00:00, 32546653.04it/s]"
     }
    },
    "1fc657986aee46ad88ebdc3172e28535": {
     "model_module": "@jupyter-widgets/base",
     "model_name": "LayoutModel",
     "state": {
      "_model_module": "@jupyter-widgets/base",
      "_model_module_version": "1.2.0",
      "_model_name": "LayoutModel",
      "_view_count": null,
      "_view_module": "@jupyter-widgets/base",
      "_view_module_version": "1.2.0",
      "_view_name": "LayoutView",
      "align_content": null,
      "align_items": null,
      "align_self": null,
      "border": null,
      "bottom": null,
      "display": null,
      "flex": null,
      "flex_flow": null,
      "grid_area": null,
      "grid_auto_columns": null,
      "grid_auto_flow": null,
      "grid_auto_rows": null,
      "grid_column": null,
      "grid_gap": null,
      "grid_row": null,
      "grid_template_areas": null,
      "grid_template_columns": null,
      "grid_template_rows": null,
      "height": null,
      "justify_content": null,
      "justify_items": null,
      "left": null,
      "margin": null,
      "max_height": null,
      "max_width": null,
      "min_height": null,
      "min_width": null,
      "object_fit": null,
      "object_position": null,
      "order": null,
      "overflow": null,
      "overflow_x": null,
      "overflow_y": null,
      "padding": null,
      "right": null,
      "top": null,
      "visibility": null,
      "width": null
     }
    },
    "6bc09dc8cc0e4ac086ff5d7169166456": {
     "model_module": "@jupyter-widgets/base",
     "model_name": "LayoutModel",
     "state": {
      "_model_module": "@jupyter-widgets/base",
      "_model_module_version": "1.2.0",
      "_model_name": "LayoutModel",
      "_view_count": null,
      "_view_module": "@jupyter-widgets/base",
      "_view_module_version": "1.2.0",
      "_view_name": "LayoutView",
      "align_content": null,
      "align_items": null,
      "align_self": null,
      "border": null,
      "bottom": null,
      "display": null,
      "flex": null,
      "flex_flow": null,
      "grid_area": null,
      "grid_auto_columns": null,
      "grid_auto_flow": null,
      "grid_auto_rows": null,
      "grid_column": null,
      "grid_gap": null,
      "grid_row": null,
      "grid_template_areas": null,
      "grid_template_columns": null,
      "grid_template_rows": null,
      "height": null,
      "justify_content": null,
      "justify_items": null,
      "left": null,
      "margin": null,
      "max_height": null,
      "max_width": null,
      "min_height": null,
      "min_width": null,
      "object_fit": null,
      "object_position": null,
      "order": null,
      "overflow": null,
      "overflow_x": null,
      "overflow_y": null,
      "padding": null,
      "right": null,
      "top": null,
      "visibility": null,
      "width": null
     }
    },
    "6f05cb4322464d7098f7bc60c2bacba5": {
     "model_module": "@jupyter-widgets/base",
     "model_name": "LayoutModel",
     "state": {
      "_model_module": "@jupyter-widgets/base",
      "_model_module_version": "1.2.0",
      "_model_name": "LayoutModel",
      "_view_count": null,
      "_view_module": "@jupyter-widgets/base",
      "_view_module_version": "1.2.0",
      "_view_name": "LayoutView",
      "align_content": null,
      "align_items": null,
      "align_self": null,
      "border": null,
      "bottom": null,
      "display": null,
      "flex": null,
      "flex_flow": null,
      "grid_area": null,
      "grid_auto_columns": null,
      "grid_auto_flow": null,
      "grid_auto_rows": null,
      "grid_column": null,
      "grid_gap": null,
      "grid_row": null,
      "grid_template_areas": null,
      "grid_template_columns": null,
      "grid_template_rows": null,
      "height": null,
      "justify_content": null,
      "justify_items": null,
      "left": null,
      "margin": null,
      "max_height": null,
      "max_width": null,
      "min_height": null,
      "min_width": null,
      "object_fit": null,
      "object_position": null,
      "order": null,
      "overflow": null,
      "overflow_x": null,
      "overflow_y": null,
      "padding": null,
      "right": null,
      "top": null,
      "visibility": null,
      "width": null
     }
    },
    "7b31261f1b134926bd18ded32866c091": {
     "model_module": "@jupyter-widgets/base",
     "model_name": "LayoutModel",
     "state": {
      "_model_module": "@jupyter-widgets/base",
      "_model_module_version": "1.2.0",
      "_model_name": "LayoutModel",
      "_view_count": null,
      "_view_module": "@jupyter-widgets/base",
      "_view_module_version": "1.2.0",
      "_view_name": "LayoutView",
      "align_content": null,
      "align_items": null,
      "align_self": null,
      "border": null,
      "bottom": null,
      "display": null,
      "flex": null,
      "flex_flow": null,
      "grid_area": null,
      "grid_auto_columns": null,
      "grid_auto_flow": null,
      "grid_auto_rows": null,
      "grid_column": null,
      "grid_gap": null,
      "grid_row": null,
      "grid_template_areas": null,
      "grid_template_columns": null,
      "grid_template_rows": null,
      "height": null,
      "justify_content": null,
      "justify_items": null,
      "left": null,
      "margin": null,
      "max_height": null,
      "max_width": null,
      "min_height": null,
      "min_width": null,
      "object_fit": null,
      "object_position": null,
      "order": null,
      "overflow": null,
      "overflow_x": null,
      "overflow_y": null,
      "padding": null,
      "right": null,
      "top": null,
      "visibility": null,
      "width": null
     }
    },
    "a1455453d51a4c40b8ba204f66d5c6e0": {
     "model_module": "@jupyter-widgets/base",
     "model_name": "LayoutModel",
     "state": {
      "_model_module": "@jupyter-widgets/base",
      "_model_module_version": "1.2.0",
      "_model_name": "LayoutModel",
      "_view_count": null,
      "_view_module": "@jupyter-widgets/base",
      "_view_module_version": "1.2.0",
      "_view_name": "LayoutView",
      "align_content": null,
      "align_items": null,
      "align_self": null,
      "border": null,
      "bottom": null,
      "display": null,
      "flex": null,
      "flex_flow": null,
      "grid_area": null,
      "grid_auto_columns": null,
      "grid_auto_flow": null,
      "grid_auto_rows": null,
      "grid_column": null,
      "grid_gap": null,
      "grid_row": null,
      "grid_template_areas": null,
      "grid_template_columns": null,
      "grid_template_rows": null,
      "height": null,
      "justify_content": null,
      "justify_items": null,
      "left": null,
      "margin": null,
      "max_height": null,
      "max_width": null,
      "min_height": null,
      "min_width": null,
      "object_fit": null,
      "object_position": null,
      "order": null,
      "overflow": null,
      "overflow_x": null,
      "overflow_y": null,
      "padding": null,
      "right": null,
      "top": null,
      "visibility": null,
      "width": null
     }
    },
    "b081e3e67881461983835952b12d62c2": {
     "model_module": "@jupyter-widgets/controls",
     "model_name": "DescriptionStyleModel",
     "state": {
      "_model_module": "@jupyter-widgets/controls",
      "_model_module_version": "1.5.0",
      "_model_name": "DescriptionStyleModel",
      "_view_count": null,
      "_view_module": "@jupyter-widgets/base",
      "_view_module_version": "1.2.0",
      "_view_name": "StyleView",
      "description_width": ""
     }
    },
    "b46006f85dee4eba970944cff1ebbfb9": {
     "model_module": "@jupyter-widgets/controls",
     "model_name": "FloatProgressModel",
     "state": {
      "_dom_classes": [],
      "_model_module": "@jupyter-widgets/controls",
      "_model_module_version": "1.5.0",
      "_model_name": "FloatProgressModel",
      "_view_count": null,
      "_view_module": "@jupyter-widgets/controls",
      "_view_module_version": "1.5.0",
      "_view_name": "ProgressView",
      "bar_style": "info",
      "description": "",
      "description_tooltip": null,
      "layout": "IPY_MODEL_7b31261f1b134926bd18ded32866c091",
      "max": 1,
      "min": 0,
      "orientation": "horizontal",
      "style": "IPY_MODEL_b52a0d1dc7a34c12a6601d56b207d2ac",
      "value": 1
     }
    },
    "b52a0d1dc7a34c12a6601d56b207d2ac": {
     "model_module": "@jupyter-widgets/controls",
     "model_name": "ProgressStyleModel",
     "state": {
      "_model_module": "@jupyter-widgets/controls",
      "_model_module_version": "1.5.0",
      "_model_name": "ProgressStyleModel",
      "_view_count": null,
      "_view_module": "@jupyter-widgets/base",
      "_view_module_version": "1.2.0",
      "_view_name": "StyleView",
      "bar_color": null,
      "description_width": "initial"
     }
    },
    "d69b1a42edad4380ad2f7cf7f1a53811": {
     "model_module": "@jupyter-widgets/controls",
     "model_name": "DescriptionStyleModel",
     "state": {
      "_model_module": "@jupyter-widgets/controls",
      "_model_module_version": "1.5.0",
      "_model_name": "DescriptionStyleModel",
      "_view_count": null,
      "_view_module": "@jupyter-widgets/base",
      "_view_module_version": "1.2.0",
      "_view_name": "StyleView",
      "description_width": ""
     }
    },
    "d91e6390b42a4a398efd6f4b9f485a8c": {
     "model_module": "@jupyter-widgets/controls",
     "model_name": "HTMLModel",
     "state": {
      "_dom_classes": [],
      "_model_module": "@jupyter-widgets/controls",
      "_model_module_version": "1.5.0",
      "_model_name": "HTMLModel",
      "_view_count": null,
      "_view_module": "@jupyter-widgets/controls",
      "_view_module_version": "1.5.0",
      "_view_name": "HTMLView",
      "description": "",
      "description_tooltip": null,
      "layout": "IPY_MODEL_a1455453d51a4c40b8ba204f66d5c6e0",
      "placeholder": "​",
      "style": "IPY_MODEL_b081e3e67881461983835952b12d62c2",
      "value": " 78/100 [00:20&lt;00:00, 23.92it/s]"
     }
    },
    "dc5e36619f224a79adbf10c36dd41f5b": {
     "model_module": "@jupyter-widgets/controls",
     "model_name": "HBoxModel",
     "state": {
      "_dom_classes": [],
      "_model_module": "@jupyter-widgets/controls",
      "_model_module_version": "1.5.0",
      "_model_name": "HBoxModel",
      "_view_count": null,
      "_view_module": "@jupyter-widgets/controls",
      "_view_module_version": "1.5.0",
      "_view_name": "HBoxView",
      "box_style": "",
      "children": [
       "IPY_MODEL_fcc631650ef649c187664b009b67b961",
       "IPY_MODEL_d91e6390b42a4a398efd6f4b9f485a8c"
      ],
      "layout": "IPY_MODEL_1fc657986aee46ad88ebdc3172e28535"
     }
    },
    "dda5a0c91b3d4aad83d81d1a66b8e412": {
     "model_module": "@jupyter-widgets/controls",
     "model_name": "HBoxModel",
     "state": {
      "_dom_classes": [],
      "_model_module": "@jupyter-widgets/controls",
      "_model_module_version": "1.5.0",
      "_model_name": "HBoxModel",
      "_view_count": null,
      "_view_module": "@jupyter-widgets/controls",
      "_view_module_version": "1.5.0",
      "_view_name": "HBoxView",
      "box_style": "",
      "children": [
       "IPY_MODEL_b46006f85dee4eba970944cff1ebbfb9",
       "IPY_MODEL_1bfea72d8d764e17adf38400b9fbc2ce"
      ],
      "layout": "IPY_MODEL_e783ad2dbc7c46f6a4abc5f7f5686df3"
     }
    },
    "e783ad2dbc7c46f6a4abc5f7f5686df3": {
     "model_module": "@jupyter-widgets/base",
     "model_name": "LayoutModel",
     "state": {
      "_model_module": "@jupyter-widgets/base",
      "_model_module_version": "1.2.0",
      "_model_name": "LayoutModel",
      "_view_count": null,
      "_view_module": "@jupyter-widgets/base",
      "_view_module_version": "1.2.0",
      "_view_name": "LayoutView",
      "align_content": null,
      "align_items": null,
      "align_self": null,
      "border": null,
      "bottom": null,
      "display": null,
      "flex": null,
      "flex_flow": null,
      "grid_area": null,
      "grid_auto_columns": null,
      "grid_auto_flow": null,
      "grid_auto_rows": null,
      "grid_column": null,
      "grid_gap": null,
      "grid_row": null,
      "grid_template_areas": null,
      "grid_template_columns": null,
      "grid_template_rows": null,
      "height": null,
      "justify_content": null,
      "justify_items": null,
      "left": null,
      "margin": null,
      "max_height": null,
      "max_width": null,
      "min_height": null,
      "min_width": null,
      "object_fit": null,
      "object_position": null,
      "order": null,
      "overflow": null,
      "overflow_x": null,
      "overflow_y": null,
      "padding": null,
      "right": null,
      "top": null,
      "visibility": null,
      "width": null
     }
    },
    "fcc631650ef649c187664b009b67b961": {
     "model_module": "@jupyter-widgets/controls",
     "model_name": "FloatProgressModel",
     "state": {
      "_dom_classes": [],
      "_model_module": "@jupyter-widgets/controls",
      "_model_module_version": "1.5.0",
      "_model_name": "FloatProgressModel",
      "_view_count": null,
      "_view_module": "@jupyter-widgets/controls",
      "_view_module_version": "1.5.0",
      "_view_name": "ProgressView",
      "bar_style": "danger",
      "description": " 78%",
      "description_tooltip": null,
      "layout": "IPY_MODEL_6f05cb4322464d7098f7bc60c2bacba5",
      "max": 100,
      "min": 0,
      "orientation": "horizontal",
      "style": "IPY_MODEL_0905dce8b7ac40a1abb135f9bbd37069",
      "value": 78
     }
    }
   }
  }
 },
 "nbformat": 4,
 "nbformat_minor": 1
}
